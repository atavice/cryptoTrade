{
 "cells": [
  {
   "cell_type": "code",
   "execution_count": 77,
   "metadata": {
    "collapsed": true
   },
   "outputs": [],
   "source": [
    "# Install python-binance library and import crypto data from Binance API.\n",
    "from binance.client import Client\n",
    "import pandas as pd\n",
    "import config"
   ]
  },
  {
   "cell_type": "code",
   "execution_count": 78,
   "outputs": [],
   "source": [
    "api_key = config.api_key\n",
    "api_secret = config.api_secret"
   ],
   "metadata": {
    "collapsed": false
   }
  },
  {
   "cell_type": "code",
   "execution_count": 79,
   "outputs": [],
   "source": [
    "client = Client(api_key, api_secret)"
   ],
   "metadata": {
    "collapsed": false
   }
  },
  {
   "cell_type": "code",
   "execution_count": 80,
   "outputs": [],
   "source": [
    "# Fetch the data\n",
    "\n",
    "import requests\n",
    "\n",
    "# Function to get top 100 cryptocurrencies from CoinGecko\n",
    "def get_top_200_cryptos():\n",
    "    url = 'https://api.coingecko.com/api/v3/coins/markets'\n",
    "    params = {\n",
    "        'vs_currency': 'usd',\n",
    "        'order': 'market_cap_desc',\n",
    "        'per_page': 200,\n",
    "        'page': 1,\n",
    "        'sparkline': False\n",
    "    }\n",
    "    response = requests.get(url, params=params)\n",
    "    data = response.json()\n",
    "    top_200_cryptos = {coin['name']: coin['symbol'].upper() + 'USDT' for coin in data}\n",
    "    return top_200_cryptos\n",
    "\n",
    "# Function to fetch historical data from Binance\n",
    "def fetch_historical_data(symbol, start_date):\n",
    "    interval = Client.KLINE_INTERVAL_1DAY\n",
    "    klines = client.get_historical_klines(symbol, interval, start_date)\n",
    "    df = pd.DataFrame(klines, columns=[\n",
    "        'timestamp', 'open', 'high', 'low', 'close', 'volume', 'close_time', 'quote_asset_volume',\n",
    "        'number_of_trades', 'taker_buy_base_asset_volume', 'taker_buy_quote_asset_volume', 'ignore'\n",
    "    ])\n",
    "    df['timestamp'] = pd.to_datetime(df['timestamp'], unit='ms')\n",
    "    return df"
   ],
   "metadata": {
    "collapsed": false
   }
  },
  {
   "cell_type": "code",
   "execution_count": 81,
   "outputs": [
    {
     "name": "stdout",
     "output_type": "stream",
     "text": [
      "Fetched data for Bitcoin (BTCUSDT)\n",
      "Fetched data for Ethereum (ETHUSDT)\n",
      "Could not fetch data for Tether (USDTUSDT): APIError(code=-1121): Invalid symbol.\n",
      "Fetched data for BNB (BNBUSDT)\n",
      "Fetched data for Solana (SOLUSDT)\n",
      "Could not fetch data for Lido Staked Ether (STETHUSDT): APIError(code=-1121): Invalid symbol.\n",
      "Fetched data for USDC (USDCUSDT)\n",
      "Fetched data for XRP (XRPUSDT)\n",
      "Fetched data for Dogecoin (DOGEUSDT)\n",
      "Fetched data for Cardano (ADAUSDT)\n",
      "Could not fetch data for Toncoin (TONUSDT): APIError(code=-1121): Invalid symbol.\n",
      "Fetched data for Shiba Inu (SHIBUSDT)\n",
      "Fetched data for Avalanche (AVAXUSDT)\n",
      "Fetched data for Wrapped Bitcoin (WBTCUSDT)\n",
      "Fetched data for Chainlink (LINKUSDT)\n",
      "Fetched data for TRON (TRXUSDT)\n",
      "Fetched data for Polkadot (DOTUSDT)\n",
      "Fetched data for Bitcoin Cash (BCHUSDT)\n",
      "Fetched data for Uniswap (UNIUSDT)\n",
      "Fetched data for NEAR Protocol (NEARUSDT)\n",
      "Fetched data for Polygon (MATICUSDT)\n",
      "Fetched data for Litecoin (LTCUSDT)\n",
      "Fetched data for Pepe (PEPEUSDT)\n",
      "Fetched data for Internet Computer (ICPUSDT)\n",
      "Fetched data for Fetch.ai (FETUSDT)\n",
      "Could not fetch data for LEO Token (LEOUSDT): APIError(code=-1121): Invalid symbol.\n",
      "Fetched data for Dai (DAIUSDT)\n",
      "Could not fetch data for Wrapped eETH (WEETHUSDT): APIError(code=-1121): Invalid symbol.\n",
      "Fetched data for Ethereum Classic (ETCUSDT)\n",
      "Fetched data for Aptos (APTUSDT)\n",
      "Fetched data for Render (RNDRUSDT)\n",
      "Could not fetch data for Renzo Restaked ETH (EZETHUSDT): APIError(code=-1121): Invalid symbol.\n",
      "Fetched data for Hedera (HBARUSDT)\n",
      "Fetched data for dogwifhat (WIFUSDT)\n",
      "Fetched data for Cosmos Hub (ATOMUSDT)\n",
      "Could not fetch data for Kaspa (KASUSDT): APIError(code=-1121): Invalid symbol.\n",
      "Fetched data for Arbitrum (ARBUSDT)\n",
      "Could not fetch data for Mantle (MNTUSDT): APIError(code=-1121): Invalid symbol.\n",
      "Fetched data for Immutable (IMXUSDT)\n",
      "Fetched data for Filecoin (FILUSDT)\n",
      "Could not fetch data for Cronos (CROUSDT): APIError(code=-1121): Invalid symbol.\n",
      "Fetched data for Stellar (XLMUSDT)\n",
      "Could not fetch data for Ethena USDe (USDEUSDT): APIError(code=-1121): Invalid symbol.\n",
      "Fetched data for First Digital USD (FDUSDUSDT)\n",
      "Fetched data for The Graph (GRTUSDT)\n",
      "Fetched data for Stacks (STXUSDT)\n",
      "Fetched data for Arweave (ARUSDT)\n",
      "Could not fetch data for OKB (OKBUSDT): APIError(code=-1121): Invalid symbol.\n",
      "Fetched data for Optimism (OPUSDT)\n",
      "Fetched data for Bittensor (TAOUSDT)\n",
      "Fetched data for Monero (XMRUSDT)\n",
      "Fetched data for Maker (MKRUSDT)\n",
      "Fetched data for VeChain (VETUSDT)\n",
      "Fetched data for FLOKI (FLOKIUSDT)\n",
      "Fetched data for Sui (SUIUSDT)\n",
      "Fetched data for Injective (INJUSDT)\n",
      "Fetched data for Bonk (BONKUSDT)\n",
      "Fetched data for Theta Network (THETAUSDT)\n",
      "Fetched data for Fantom (FTMUSDT)\n",
      "Fetched data for THORChain (RUNEUSDT)\n",
      "Fetched data for Lido DAO (LDOUSDT)\n",
      "Could not fetch data for Rocket Pool ETH (RETHUSDT): APIError(code=-1121): Invalid symbol.\n",
      "Fetched data for Celestia (TIAUSDT)\n",
      "Could not fetch data for Bitget Token (BGBUSDT): APIError(code=-1121): Invalid symbol.\n",
      "Could not fetch data for Mantle Staked Ether (METHUSDT): APIError(code=-1121): Invalid symbol.\n",
      "Could not fetch data for Ondo (ONDOUSDT): APIError(code=-1121): Invalid symbol.\n",
      "Could not fetch data for Core (COREUSDT): APIError(code=-1121): Invalid symbol.\n",
      "Fetched data for Algorand (ALGOUSDT)\n",
      "Fetched data for Aave (AAVEUSDT)\n",
      "Fetched data for GALA (GALAUSDT)\n",
      "Fetched data for Pyth Network (PYTHUSDT)\n",
      "Fetched data for Jupiter (JUPUSDT)\n",
      "Fetched data for Sei (SEIUSDT)\n",
      "Fetched data for JasmyCoin (JASMYUSDT)\n",
      "Could not fetch data for WhiteBIT Coin (WBTUSDT): APIError(code=-1121): Invalid symbol.\n",
      "Fetched data for Starknet (STRKUSDT)\n",
      "Fetched data for Flow (FLOWUSDT)\n",
      "Fetched data for Quant (QNTUSDT)\n",
      "Fetched data for Beam (BEAMUSDT)\n",
      "Fetched data for Chiliz (CHZUSDT)\n",
      "Fetched data for Notcoin (NOTUSDT)\n",
      "Fetched data for Ethena (ENAUSDT)\n",
      "Could not fetch data for Bitcoin SV (BSVUSDT): APIError(code=-1121): Invalid symbol.\n",
      "Fetched data for SingularityNET (AGIXUSDT)\n",
      "Could not fetch data for Akash Network (AKTUSDT): APIError(code=-1121): Invalid symbol.\n",
      "Could not fetch data for Cheelee (CHEELUSDT): APIError(code=-1121): Invalid symbol.\n",
      "Could not fetch data for Kelp DAO Restaked ETH (RSETHUSDT): APIError(code=-1121): Invalid symbol.\n",
      "Fetched data for BitTorrent (BTTUSDT)\n",
      "Could not fetch data for Flare (FLRUSDT): APIError(code=-1121): Invalid symbol.\n",
      "Fetched data for Worldcoin (WLDUSDT)\n",
      "Could not fetch data for dYdX (ETHDYDXUSDT): APIError(code=-1121): Invalid symbol.\n",
      "Could not fetch data for Tokenize Xchange (TKXUSDT): APIError(code=-1121): Invalid symbol.\n",
      "Fetched data for Axie Infinity (AXSUSDT)\n",
      "Could not fetch data for Zebec Protocol (ZBCUSDT): APIError(code=-1121): Invalid symbol.\n",
      "Could not fetch data for Gate (GTUSDT): APIError(code=-1121): Invalid symbol.\n",
      "Fetched data for MultiversX (EGLDUSDT)\n",
      "Fetched data for NEO (NEOUSDT)\n",
      "Fetched data for Wormhole (WUSDT)\n",
      "Fetched data for ORDI (ORDIUSDT)\n",
      "Fetched data for The Sandbox (SANDUSDT)\n",
      "Could not fetch data for KuCoin (KCSUSDT): APIError(code=-1121): Invalid symbol.\n",
      "Could not fetch data for Ronin (RONUSDT): APIError(code=-1121): Invalid symbol.\n",
      "Fetched data for Pendle (PENDLEUSDT)\n",
      "Could not fetch data for Safe (SAFEUSDT): APIError(code=-1121): Invalid symbol.\n",
      "Fetched data for Tezos (XTZUSDT)\n",
      "Fetched data for Mina Protocol (MINAUSDT)\n",
      "Fetched data for EOS (EOSUSDT)\n",
      "Fetched data for eCash (XECUSDT)\n",
      "Could not fetch data for Marinade Staked SOL (MSOLUSDT): APIError(code=-1121): Invalid symbol.\n",
      "Could not fetch data for Brett (BRETTUSDT): APIError(code=-1121): Invalid symbol.\n",
      "Fetched data for Synthetix Network (SNXUSDT)\n",
      "Fetched data for BOOK OF MEME (BOMEUSDT)\n",
      "Could not fetch data for Ribbon Finance (RBNUSDT): APIError(code=-1121): Invalid symbol.\n",
      "Fetched data for Conflux (CFXUSDT)\n",
      "Fetched data for Gnosis (GNOUSDT)\n",
      "Could not fetch data for ether.fi Staked ETH (EETHUSDT): APIError(code=-1121): Invalid symbol.\n",
      "Fetched data for Decentraland (MANAUSDT)\n",
      "Could not fetch data for Dog (DOGUSDT): APIError(code=-1121): Invalid symbol.\n",
      "Fetched data for NEXO (NEXOUSDT)\n",
      "Could not fetch data for AIOZ Network (AIOZUSDT): APIError(code=-1121): Invalid symbol.\n",
      "Fetched data for ApeCoin (APEUSDT)\n",
      "Fetched data for Ethereum Name Service (ENSUSDT)\n",
      "Could not fetch data for Lido Staked SOL (STSOLUSDT): APIError(code=-1121): Invalid symbol.\n",
      "Fetched data for Axelar (AXLUSDT)\n",
      "Could not fetch data for Frax Ether (FRXETHUSDT): APIError(code=-1121): Invalid symbol.\n",
      "Fetched data for DeXe (DEXEUSDT)\n",
      "Fetched data for PancakeSwap (CAKEUSDT)\n",
      "Fetched data for Aevo (AEVOUSDT)\n",
      "Fetched data for Kava (KAVAUSDT)\n",
      "Fetched data for Klaytn (KLAYUSDT)\n",
      "Could not fetch data for USDD (USDDUSDT): APIError(code=-1121): Invalid symbol.\n",
      "Fetched data for IOTA (IOTAUSDT)\n",
      "Fetched data for Nervos Network (CKBUSDT)\n",
      "Could not fetch data for SATS (Ordinals) (SATSUSDT): APIError(code=-1121): Invalid symbol.\n",
      "Fetched data for Terra Luna Classic (LUNCUSDT)\n",
      "Could not fetch data for Fasttoken (FTNUSDT): APIError(code=-1121): Invalid symbol.\n",
      "Fetched data for Livepeer (LPTUSDT)\n",
      "Could not fetch data for Echelon Prime (PRIMEUSDT): APIError(code=-1121): Invalid symbol.\n",
      "Could not fetch data for Swell Ethereum (SWETHUSDT): APIError(code=-1121): Invalid symbol.\n",
      "Could not fetch data for Coinbase Wrapped Staked ETH (CBETHUSDT): APIError(code=-1121): Invalid symbol.\n",
      "Fetched data for Blur (BLURUSDT)\n",
      "Could not fetch data for CorgiAI (CORGIAIUSDT): APIError(code=-1121): Invalid symbol.\n",
      "Could not fetch data for PepeCoin (PEPECOINUSDT): APIError(code=-1121): Invalid symbol.\n",
      "Fetched data for Oasis Network (ROSEUSDT)\n",
      "Fetched data for Helium (HNTUSDT)\n",
      "Could not fetch data for Frax (FRAXUSDT): APIError(code=-1121): Invalid symbol.\n",
      "Fetched data for Theta Fuel (TFUELUSDT)\n",
      "Fetched data for WOO (WOOUSDT)\n",
      "Could not fetch data for MAGA (TRUMPUSDT): APIError(code=-1121): Invalid symbol.\n",
      "Fetched data for Ocean Protocol (OCEANUSDT)\n",
      "Fetched data for Bitcoin Gold (BTGUSDT)\n",
      "Could not fetch data for Staked Frax Ether (SFRXETHUSDT): APIError(code=-1121): Invalid symbol.\n",
      "Fetched data for 1inch (1INCHUSDT)\n",
      "Fetched data for Osmosis (OSMOUSDT)\n",
      "Could not fetch data for Tether Gold (XAUTUSDT): APIError(code=-1121): Invalid symbol.\n",
      "Fetched data for Curve DAO (CRVUSDT)\n",
      "Fetched data for Manta Network (MANTAUSDT)\n",
      "Could not fetch data for Aerodrome Finance (AEROUSDT): APIError(code=-1121): Invalid symbol.\n",
      "Fetched data for Illuvium (ILVUSDT)\n",
      "Fetched data for Memecoin (MEMEUSDT)\n",
      "Fetched data for MANTRA (OMUSDT)\n",
      "Could not fetch data for Mog Coin (MOGUSDT): APIError(code=-1121): Invalid symbol.\n",
      "Fetched data for IoTeX (IOTXUSDT)\n",
      "Fetched data for Arkham (ARKMUSDT)\n",
      "Could not fetch data for XDC Network (XDCUSDT): APIError(code=-1121): Invalid symbol.\n",
      "Fetched data for Ether.fi (ETHFIUSDT)\n",
      "Fetched data for Enjin Coin (ENJUSDT)\n",
      "Fetched data for AltLayer (ALTUSDT)\n",
      "Fetched data for Dymension (DYMUSDT)\n",
      "Fetched data for Golem (GLMUSDT)\n",
      "Fetched data for TrueUSD (TUSDUSDT)\n",
      "Fetched data for Trust Wallet (TWTUSDT)\n",
      "Fetched data for Astar (ASTRUSDT)\n",
      "Could not fetch data for Stader ETHx (ETHXUSDT): APIError(code=-1121): Invalid symbol.\n",
      "Could not fetch data for WEMIX (WEMIXUSDT): APIError(code=-1121): Invalid symbol.\n",
      "Fetched data for GMT (GMTUSDT)\n",
      "Fetched data for Terra (LUNAUSDT)\n",
      "Fetched data for Raydium (RAYUSDT)\n",
      "Could not fetch data for cETH (CETHUSDT): APIError(code=-1121): Invalid symbol.\n",
      "Fetched data for Celo (CELOUSDT)\n",
      "Could not fetch data for APENFT (NFTUSDT): APIError(code=-1121): Invalid symbol.\n",
      "Fetched data for Rocket Pool (RPLUSDT)\n",
      "Fetched data for Jito (JTOUSDT)\n",
      "Could not fetch data for Turbo (TURBOUSDT): APIError(code=-1121): Invalid symbol.\n",
      "Could not fetch data for Popcat (POPCATUSDT): APIError(code=-1121): Invalid symbol.\n",
      "Fetched data for Zilliqa (ZILUSDT)\n",
      "Fetched data for Polymesh (POLYXUSDT)\n",
      "Fetched data for 0x Protocol (ZRXUSDT)\n",
      "Could not fetch data for MX (MXUSDT): APIError(code=-1121): Invalid symbol.\n",
      "Fetched data for Ankr Network (ANKRUSDT)\n",
      "Fetched data for SuperVerse (SUPERUSDT)\n",
      "Fetched data for Metis (METISUSDT)\n",
      "Fetched data for Holo (HOTUSDT)\n",
      "Fetched data for Biconomy (BICOUSDT)\n",
      "Fetched data for PAX Gold (PAXGUSDT)\n",
      "Fetched data for SKALE (SKLUSDT)\n",
      "Fetched data for Galxe (GALUSDT)\n",
      "Could not fetch data for Radix (XRDUSDT): APIError(code=-1121): Invalid symbol.\n",
      "Fetched data for Compound (COMPUSDT)\n",
      "      timestamp            open            high             low  \\\n",
      "1972 2024-05-26  69290.56000000  69562.23000000  68128.01000000   \n",
      "1973 2024-05-27  68507.67000000  70687.56000000  68250.00000000   \n",
      "1974 2024-05-28  69436.43000000  69591.81000000  67277.91000000   \n",
      "1975 2024-05-29  68398.40000000  68935.68000000  67124.65000000   \n",
      "1976 2024-05-30  67652.41000000  69500.00000000  67128.00000000   \n",
      "\n",
      "               close          volume     close_time   quote_asset_volume  \\\n",
      "1972  68507.67000000  11872.11797000  1716767999999   818914878.99088980   \n",
      "1973  69436.43000000  23136.92737000  1716854399999  1604722197.83740280   \n",
      "1974  68398.39000000  32622.97042000  1716940799999  2224860225.79922270   \n",
      "1975  67652.42000000  23159.83149000  1717027199999  1573095221.64839840   \n",
      "1976  68398.59000000  27445.54609000  1717113599999  1874396600.32079770   \n",
      "\n",
      "      number_of_trades taker_buy_base_asset_volume  \\\n",
      "1972            722849               5934.62083000   \n",
      "1973           1219341              11709.62174000   \n",
      "1974           1459351              15543.09776000   \n",
      "1975           1221044              11748.55954000   \n",
      "1976           1202958              13546.41386000   \n",
      "\n",
      "     taker_buy_quote_asset_volume ignore  \n",
      "1972           409411078.54609240      0  \n",
      "1973           812172288.25763730      0  \n",
      "1974          1059920452.31461710      0  \n",
      "1975           797928379.36691790      0  \n",
      "1976           925496679.01737810      0  \n"
     ]
    }
   ],
   "source": [
    "# Main execution\n",
    "\n",
    "start_date = \"1 January 2019\"\n",
    "top_200_cryptos = get_top_200_cryptos()\n",
    "historical_data = {}\n",
    "\n",
    "for name, symbol in top_200_cryptos.items():\n",
    "    try:\n",
    "        df = fetch_historical_data(symbol, start_date)\n",
    "        historical_data[name] = df\n",
    "        print(f\"Fetched data for {name} ({symbol})\")\n",
    "    except Exception as e:\n",
    "        print(f\"Could not fetch data for {name} ({symbol}): {e}\")\n",
    "\n",
    "# Print sample data from the first cryptocurrency\n",
    "first_crypto_name = next(iter(historical_data))\n",
    "print(historical_data[first_crypto_name].tail())"
   ],
   "metadata": {
    "collapsed": false
   }
  },
  {
   "cell_type": "code",
   "execution_count": 82,
   "outputs": [
    {
     "data": {
      "text/plain": "139"
     },
     "execution_count": 82,
     "metadata": {},
     "output_type": "execute_result"
    }
   ],
   "source": [
    "len(historical_data.keys())"
   ],
   "metadata": {
    "collapsed": false
   }
  },
  {
   "cell_type": "code",
   "execution_count": 83,
   "outputs": [
    {
     "name": "stdout",
     "output_type": "stream",
     "text": [
      "Count: 74\n",
      "Matching keys: ['Shiba Inu', 'Wrapped Bitcoin', 'Pepe', 'Internet Computer', 'Aptos', 'Render', 'dogwifhat', 'Arbitrum', 'Immutable', 'First Digital USD', 'Arweave', 'Optimism', 'Bittensor', 'FLOKI', 'Sui', 'Bonk', 'Lido DAO', 'Celestia', 'GALA', 'Pyth Network', 'Jupiter', 'Sei', 'JasmyCoin', 'Starknet', 'Flow', 'Quant', 'Notcoin', 'Ethena', 'SingularityNET', 'Worldcoin', 'Wormhole', 'ORDI', 'Pendle', 'Mina Protocol', 'eCash', 'BOOK OF MEME', 'Conflux', 'Gnosis', 'NEXO', 'ApeCoin', 'Ethereum Name Service', 'Axelar', 'DeXe', 'PancakeSwap', 'Aevo', 'Klaytn', 'Nervos Network', 'Terra Luna Classic', 'Livepeer', 'Blur', 'WOO', 'Bitcoin Gold', 'Osmosis', 'Manta Network', 'Illuvium', 'Memecoin', 'MANTRA', 'Arkham', 'Ether.fi', 'AltLayer', 'Dymension', 'Golem', 'Trust Wallet', 'Astar', 'GMT', 'Raydium', 'Celo', 'Rocket Pool', 'Jito', 'Polymesh', 'SuperVerse', 'Metis', 'Biconomy', 'Galxe']\n"
     ]
    }
   ],
   "source": [
    "# Count how many crypto we will have with changing start datetime.\n",
    "from datetime import datetime\n",
    "\n",
    "count = 0\n",
    "matching_keys = []\n",
    "threshold_date = datetime.strptime('2021-01-01 00:00:00', '%Y-%m-%d %H:%M:%S')\n",
    "\n",
    "for key, df in historical_data.items():\n",
    "    first_cell = df.iloc[0, 0]\n",
    "    # Convert first cell to datetime if it is not already\n",
    "    if isinstance(first_cell, str):\n",
    "        first_cell = datetime.strptime(first_cell, '%Y-%m-%d %H:%M:%S')\n",
    "    elif isinstance(first_cell, pd.Timestamp):\n",
    "        first_cell = first_cell.to_pydatetime()\n",
    "\n",
    "    if first_cell > threshold_date:\n",
    "        count += 1\n",
    "        matching_keys.append(key)\n",
    "\n",
    "print(\"Count:\", count)\n",
    "print(\"Matching keys:\", matching_keys)"
   ],
   "metadata": {
    "collapsed": false
   }
  },
  {
   "cell_type": "code",
   "execution_count": 84,
   "outputs": [],
   "source": [
    "import pandas as pd\n",
    "from datetime import datetime\n",
    "\n",
    "# Set the threshold dates for filtering and trimming\n",
    "threshold_start_date = datetime.strptime('2021-01-01 00:00:00', '%Y-%m-%d %H:%M:%S')\n",
    "threshold_end_date = datetime.now().strftime('%Y-%m-%d %H:%M:%S')\n",
    "\n",
    "# Step 1: Filter DataFrames that do not start after the threshold date\n",
    "filtered_historical_data = {}\n",
    "for key, df in historical_data.items():\n",
    "    if not df.empty:\n",
    "        first_cell = df.iloc[0, 0]\n",
    "        if (isinstance(first_cell, str) and datetime.strptime(first_cell, '%Y-%m-%d %H:%M:%S') <= threshold_start_date) or (isinstance(first_cell, pd.Timestamp) and first_cell.to_pydatetime() <= threshold_start_date):\n",
    "            filtered_historical_data[key] = df"
   ],
   "metadata": {
    "collapsed": false
   }
  },
  {
   "cell_type": "code",
   "execution_count": 85,
   "outputs": [
    {
     "data": {
      "text/plain": "      timestamp            open            high             low  \\\n0    2019-01-01   3701.23000000   3810.16000000   3642.00000000   \n1    2019-01-02   3796.45000000   3882.14000000   3750.45000000   \n2    2019-01-03   3857.57000000   3862.74000000   3730.00000000   \n3    2019-01-04   3767.20000000   3823.64000000   3703.57000000   \n4    2019-01-05   3790.09000000   3840.99000000   3751.00000000   \n...         ...             ...             ...             ...   \n1972 2024-05-26  69290.56000000  69562.23000000  68128.01000000   \n1973 2024-05-27  68507.67000000  70687.56000000  68250.00000000   \n1974 2024-05-28  69436.43000000  69591.81000000  67277.91000000   \n1975 2024-05-29  68398.40000000  68935.68000000  67124.65000000   \n1976 2024-05-30  67652.41000000  69500.00000000  67128.00000000   \n\n               close          volume     close_time   quote_asset_volume  \\\n0      3797.14000000  23741.68703300  1546387199999    88149249.09230461   \n1      3858.56000000  35156.46336900  1546473599999   133876627.24651060   \n2      3766.78000000  29406.94835900  1546559999999   111657372.69526468   \n3      3792.01000000  29519.55467100  1546646399999   111034550.64066196   \n4      3770.96000000  30490.66775100  1546732799999   115893501.27515878   \n...              ...             ...            ...                  ...   \n1972  68507.67000000  11872.11797000  1716767999999   818914878.99088980   \n1973  69436.43000000  23136.92737000  1716854399999  1604722197.83740280   \n1974  68398.39000000  32622.97042000  1716940799999  2224860225.79922270   \n1975  67652.42000000  23159.83149000  1717027199999  1573095221.64839840   \n1976  68398.59000000  27445.54609000  1717113599999  1874396600.32079770   \n\n      number_of_trades taker_buy_base_asset_volume  \\\n0               154227              12919.15589900   \n1               218538              17921.60011400   \n2               199812              14793.08326700   \n3               192232              15579.30325800   \n4               203673              14908.91417500   \n...                ...                         ...   \n1972            722849               5934.62083000   \n1973           1219341              11709.62174000   \n1974           1459351              15543.09776000   \n1975           1221044              11748.55954000   \n1976           1202958              13546.41386000   \n\n     taker_buy_quote_asset_volume ignore  \n0               47973435.86685800      0  \n1               68277897.66105788      0  \n2               56172495.42692984      0  \n3               58616203.97789647      0  \n4               56667455.38615935      0  \n...                           ...    ...  \n1972           409411078.54609240      0  \n1973           812172288.25763730      0  \n1974          1059920452.31461710      0  \n1975           797928379.36691790      0  \n1976           925496679.01737810      0  \n\n[1977 rows x 12 columns]",
      "text/html": "<div>\n<style scoped>\n    .dataframe tbody tr th:only-of-type {\n        vertical-align: middle;\n    }\n\n    .dataframe tbody tr th {\n        vertical-align: top;\n    }\n\n    .dataframe thead th {\n        text-align: right;\n    }\n</style>\n<table border=\"1\" class=\"dataframe\">\n  <thead>\n    <tr style=\"text-align: right;\">\n      <th></th>\n      <th>timestamp</th>\n      <th>open</th>\n      <th>high</th>\n      <th>low</th>\n      <th>close</th>\n      <th>volume</th>\n      <th>close_time</th>\n      <th>quote_asset_volume</th>\n      <th>number_of_trades</th>\n      <th>taker_buy_base_asset_volume</th>\n      <th>taker_buy_quote_asset_volume</th>\n      <th>ignore</th>\n    </tr>\n  </thead>\n  <tbody>\n    <tr>\n      <th>0</th>\n      <td>2019-01-01</td>\n      <td>3701.23000000</td>\n      <td>3810.16000000</td>\n      <td>3642.00000000</td>\n      <td>3797.14000000</td>\n      <td>23741.68703300</td>\n      <td>1546387199999</td>\n      <td>88149249.09230461</td>\n      <td>154227</td>\n      <td>12919.15589900</td>\n      <td>47973435.86685800</td>\n      <td>0</td>\n    </tr>\n    <tr>\n      <th>1</th>\n      <td>2019-01-02</td>\n      <td>3796.45000000</td>\n      <td>3882.14000000</td>\n      <td>3750.45000000</td>\n      <td>3858.56000000</td>\n      <td>35156.46336900</td>\n      <td>1546473599999</td>\n      <td>133876627.24651060</td>\n      <td>218538</td>\n      <td>17921.60011400</td>\n      <td>68277897.66105788</td>\n      <td>0</td>\n    </tr>\n    <tr>\n      <th>2</th>\n      <td>2019-01-03</td>\n      <td>3857.57000000</td>\n      <td>3862.74000000</td>\n      <td>3730.00000000</td>\n      <td>3766.78000000</td>\n      <td>29406.94835900</td>\n      <td>1546559999999</td>\n      <td>111657372.69526468</td>\n      <td>199812</td>\n      <td>14793.08326700</td>\n      <td>56172495.42692984</td>\n      <td>0</td>\n    </tr>\n    <tr>\n      <th>3</th>\n      <td>2019-01-04</td>\n      <td>3767.20000000</td>\n      <td>3823.64000000</td>\n      <td>3703.57000000</td>\n      <td>3792.01000000</td>\n      <td>29519.55467100</td>\n      <td>1546646399999</td>\n      <td>111034550.64066196</td>\n      <td>192232</td>\n      <td>15579.30325800</td>\n      <td>58616203.97789647</td>\n      <td>0</td>\n    </tr>\n    <tr>\n      <th>4</th>\n      <td>2019-01-05</td>\n      <td>3790.09000000</td>\n      <td>3840.99000000</td>\n      <td>3751.00000000</td>\n      <td>3770.96000000</td>\n      <td>30490.66775100</td>\n      <td>1546732799999</td>\n      <td>115893501.27515878</td>\n      <td>203673</td>\n      <td>14908.91417500</td>\n      <td>56667455.38615935</td>\n      <td>0</td>\n    </tr>\n    <tr>\n      <th>...</th>\n      <td>...</td>\n      <td>...</td>\n      <td>...</td>\n      <td>...</td>\n      <td>...</td>\n      <td>...</td>\n      <td>...</td>\n      <td>...</td>\n      <td>...</td>\n      <td>...</td>\n      <td>...</td>\n      <td>...</td>\n    </tr>\n    <tr>\n      <th>1972</th>\n      <td>2024-05-26</td>\n      <td>69290.56000000</td>\n      <td>69562.23000000</td>\n      <td>68128.01000000</td>\n      <td>68507.67000000</td>\n      <td>11872.11797000</td>\n      <td>1716767999999</td>\n      <td>818914878.99088980</td>\n      <td>722849</td>\n      <td>5934.62083000</td>\n      <td>409411078.54609240</td>\n      <td>0</td>\n    </tr>\n    <tr>\n      <th>1973</th>\n      <td>2024-05-27</td>\n      <td>68507.67000000</td>\n      <td>70687.56000000</td>\n      <td>68250.00000000</td>\n      <td>69436.43000000</td>\n      <td>23136.92737000</td>\n      <td>1716854399999</td>\n      <td>1604722197.83740280</td>\n      <td>1219341</td>\n      <td>11709.62174000</td>\n      <td>812172288.25763730</td>\n      <td>0</td>\n    </tr>\n    <tr>\n      <th>1974</th>\n      <td>2024-05-28</td>\n      <td>69436.43000000</td>\n      <td>69591.81000000</td>\n      <td>67277.91000000</td>\n      <td>68398.39000000</td>\n      <td>32622.97042000</td>\n      <td>1716940799999</td>\n      <td>2224860225.79922270</td>\n      <td>1459351</td>\n      <td>15543.09776000</td>\n      <td>1059920452.31461710</td>\n      <td>0</td>\n    </tr>\n    <tr>\n      <th>1975</th>\n      <td>2024-05-29</td>\n      <td>68398.40000000</td>\n      <td>68935.68000000</td>\n      <td>67124.65000000</td>\n      <td>67652.42000000</td>\n      <td>23159.83149000</td>\n      <td>1717027199999</td>\n      <td>1573095221.64839840</td>\n      <td>1221044</td>\n      <td>11748.55954000</td>\n      <td>797928379.36691790</td>\n      <td>0</td>\n    </tr>\n    <tr>\n      <th>1976</th>\n      <td>2024-05-30</td>\n      <td>67652.41000000</td>\n      <td>69500.00000000</td>\n      <td>67128.00000000</td>\n      <td>68398.59000000</td>\n      <td>27445.54609000</td>\n      <td>1717113599999</td>\n      <td>1874396600.32079770</td>\n      <td>1202958</td>\n      <td>13546.41386000</td>\n      <td>925496679.01737810</td>\n      <td>0</td>\n    </tr>\n  </tbody>\n</table>\n<p>1977 rows × 12 columns</p>\n</div>"
     },
     "execution_count": 85,
     "metadata": {},
     "output_type": "execute_result"
    }
   ],
   "source": [
    "filtered_historical_data['Bitcoin']"
   ],
   "metadata": {
    "collapsed": false
   }
  },
  {
   "cell_type": "code",
   "execution_count": 88,
   "outputs": [],
   "source": [
    "# Step 2: Trim DataFrames to start from the threshold date if they have older data\n",
    "for key, df in filtered_historical_data.items():\n",
    "    if not df.empty:\n",
    "        # Ensure the first column is a datetime object\n",
    "        if isinstance(df.iloc[0, 0], str):\n",
    "            df.iloc[:, 0] = pd.to_datetime(df.iloc[:, 0])\n",
    "\n",
    "        # Filter rows to start from the threshold date\n",
    "        filtered_historical_data[key] = df[df.iloc[:, 0] >= threshold_start_date]"
   ],
   "metadata": {
    "collapsed": false
   }
  },
  {
   "cell_type": "code",
   "execution_count": 89,
   "outputs": [],
   "source": [
    "# Step 3: Remove DataFrames with incorrect start or end dates or length not equal to len\n",
    "for key, df in filtered_historical_data.items():\n",
    "    if not df.empty:\n",
    "        start_date = df.iloc[0, 0]\n",
    "        end_date = df.iloc[-1, 0]\n",
    "        difference = datetime.today() - start_date\n",
    "        number_of_days = difference.days\n",
    "        if start_date == threshold_start_date and end_date == threshold_end_date and len(df) == number_of_days:\n",
    "            filtered_historical_data[key] = df"
   ],
   "metadata": {
    "collapsed": false
   }
  },
  {
   "cell_type": "code",
   "execution_count": 90,
   "outputs": [
    {
     "name": "stdout",
     "output_type": "stream",
     "text": [
      "Bitcoin -start: 2021-01-01 00:00:00 to end: 2024-05-30 00:00:00, length: 1246\n",
      "Ethereum -start: 2021-01-01 00:00:00 to end: 2024-05-30 00:00:00, length: 1246\n",
      "BNB -start: 2021-01-01 00:00:00 to end: 2024-05-30 00:00:00, length: 1246\n",
      "Solana -start: 2021-01-01 00:00:00 to end: 2024-05-30 00:00:00, length: 1246\n",
      "USDC -start: 2021-01-01 00:00:00 to end: 2024-05-30 00:00:00, length: 1081\n",
      "XRP -start: 2021-01-01 00:00:00 to end: 2024-05-30 00:00:00, length: 1246\n",
      "Dogecoin -start: 2021-01-01 00:00:00 to end: 2024-05-30 00:00:00, length: 1246\n",
      "Cardano -start: 2021-01-01 00:00:00 to end: 2024-05-30 00:00:00, length: 1246\n",
      "Avalanche -start: 2021-01-01 00:00:00 to end: 2024-05-30 00:00:00, length: 1246\n",
      "Chainlink -start: 2021-01-01 00:00:00 to end: 2024-05-30 00:00:00, length: 1246\n",
      "TRON -start: 2021-01-01 00:00:00 to end: 2024-05-30 00:00:00, length: 1246\n",
      "Polkadot -start: 2021-01-01 00:00:00 to end: 2024-05-30 00:00:00, length: 1246\n",
      "Bitcoin Cash -start: 2021-01-01 00:00:00 to end: 2024-05-30 00:00:00, length: 1246\n",
      "Uniswap -start: 2021-01-01 00:00:00 to end: 2024-05-30 00:00:00, length: 1246\n",
      "NEAR Protocol -start: 2021-01-01 00:00:00 to end: 2024-05-30 00:00:00, length: 1246\n",
      "Polygon -start: 2021-01-01 00:00:00 to end: 2024-05-30 00:00:00, length: 1246\n",
      "Litecoin -start: 2021-01-01 00:00:00 to end: 2024-05-30 00:00:00, length: 1246\n",
      "Fetch.ai -start: 2021-01-01 00:00:00 to end: 2024-05-30 00:00:00, length: 1246\n",
      "Ethereum Classic -start: 2021-01-01 00:00:00 to end: 2024-05-30 00:00:00, length: 1246\n",
      "Hedera -start: 2021-01-01 00:00:00 to end: 2024-05-30 00:00:00, length: 1246\n",
      "Cosmos Hub -start: 2021-01-01 00:00:00 to end: 2024-05-30 00:00:00, length: 1246\n",
      "Filecoin -start: 2021-01-01 00:00:00 to end: 2024-05-30 00:00:00, length: 1246\n",
      "Stellar -start: 2021-01-01 00:00:00 to end: 2024-05-30 00:00:00, length: 1246\n",
      "The Graph -start: 2021-01-01 00:00:00 to end: 2024-05-30 00:00:00, length: 1246\n",
      "Stacks -start: 2021-01-01 00:00:00 to end: 2024-05-30 00:00:00, length: 1246\n",
      "Monero -start: 2021-01-01 00:00:00 to end: 2024-02-20 00:00:00, length: 1146\n",
      "Maker -start: 2021-01-01 00:00:00 to end: 2024-05-30 00:00:00, length: 1246\n",
      "VeChain -start: 2021-01-01 00:00:00 to end: 2024-05-30 00:00:00, length: 1246\n",
      "Injective -start: 2021-01-01 00:00:00 to end: 2024-05-30 00:00:00, length: 1246\n",
      "Theta Network -start: 2021-01-01 00:00:00 to end: 2024-05-30 00:00:00, length: 1246\n",
      "Fantom -start: 2021-01-01 00:00:00 to end: 2024-05-30 00:00:00, length: 1246\n",
      "THORChain -start: 2021-01-01 00:00:00 to end: 2024-05-30 00:00:00, length: 1246\n",
      "Algorand -start: 2021-01-01 00:00:00 to end: 2024-05-30 00:00:00, length: 1246\n",
      "Aave -start: 2021-01-01 00:00:00 to end: 2024-05-30 00:00:00, length: 1246\n",
      "Beam -start: 2021-01-01 00:00:00 to end: 2023-01-26 00:00:00, length: 756\n",
      "Chiliz -start: 2021-01-01 00:00:00 to end: 2024-05-30 00:00:00, length: 1246\n",
      "BitTorrent -start: 2021-01-01 00:00:00 to end: 2022-01-17 00:00:00, length: 382\n",
      "Axie Infinity -start: 2021-01-01 00:00:00 to end: 2024-05-30 00:00:00, length: 1246\n",
      "MultiversX -start: 2021-01-01 00:00:00 to end: 2024-05-30 00:00:00, length: 1246\n",
      "NEO -start: 2021-01-01 00:00:00 to end: 2024-05-30 00:00:00, length: 1246\n",
      "The Sandbox -start: 2021-01-01 00:00:00 to end: 2024-05-30 00:00:00, length: 1246\n",
      "Tezos -start: 2021-01-01 00:00:00 to end: 2024-05-30 00:00:00, length: 1246\n",
      "EOS -start: 2021-01-01 00:00:00 to end: 2024-05-30 00:00:00, length: 1246\n",
      "Synthetix Network -start: 2021-01-01 00:00:00 to end: 2024-05-30 00:00:00, length: 1246\n",
      "Decentraland -start: 2021-01-01 00:00:00 to end: 2024-05-30 00:00:00, length: 1246\n",
      "Kava -start: 2021-01-01 00:00:00 to end: 2024-05-30 00:00:00, length: 1246\n",
      "IOTA -start: 2021-01-01 00:00:00 to end: 2024-05-30 00:00:00, length: 1246\n",
      "Oasis Network -start: 2021-01-01 00:00:00 to end: 2024-05-30 00:00:00, length: 1246\n",
      "Helium -start: 2021-01-01 00:00:00 to end: 2022-10-14 00:00:00, length: 652\n",
      "Theta Fuel -start: 2021-01-01 00:00:00 to end: 2024-05-30 00:00:00, length: 1246\n",
      "Ocean Protocol -start: 2021-01-01 00:00:00 to end: 2024-05-30 00:00:00, length: 1246\n",
      "1inch -start: 2021-01-01 00:00:00 to end: 2024-05-30 00:00:00, length: 1246\n",
      "Curve DAO -start: 2021-01-01 00:00:00 to end: 2024-05-30 00:00:00, length: 1246\n",
      "IoTeX -start: 2021-01-01 00:00:00 to end: 2024-05-30 00:00:00, length: 1246\n",
      "Enjin Coin -start: 2021-01-01 00:00:00 to end: 2024-05-30 00:00:00, length: 1246\n",
      "TrueUSD -start: 2021-01-01 00:00:00 to end: 2024-05-30 00:00:00, length: 1081\n",
      "Terra -start: 2021-01-01 00:00:00 to end: 2024-05-30 00:00:00, length: 1229\n",
      "Zilliqa -start: 2021-01-01 00:00:00 to end: 2024-05-30 00:00:00, length: 1246\n",
      "0x Protocol -start: 2021-01-01 00:00:00 to end: 2024-05-30 00:00:00, length: 1246\n",
      "Ankr Network -start: 2021-01-01 00:00:00 to end: 2024-05-30 00:00:00, length: 1246\n",
      "Holo -start: 2021-01-01 00:00:00 to end: 2024-05-30 00:00:00, length: 1246\n",
      "PAX Gold -start: 2021-01-01 00:00:00 to end: 2024-05-30 00:00:00, length: 1246\n",
      "SKALE -start: 2021-01-01 00:00:00 to end: 2024-05-30 00:00:00, length: 1246\n",
      "Compound -start: 2021-01-01 00:00:00 to end: 2024-05-30 00:00:00, length: 1246\n"
     ]
    }
   ],
   "source": [
    "for key, df in filtered_historical_data.items():\n",
    "    if not df.empty:\n",
    "        print(f'{key} -start: {df.iloc[0,0]} to end: {df.iloc[-1, 0]}, length: {len(df)}')"
   ],
   "metadata": {
    "collapsed": false
   }
  },
  {
   "cell_type": "code",
   "execution_count": 92,
   "outputs": [],
   "source": [
    "# List of keys to exclude\n",
    "exclude_keys = ['USDC', 'Monero', 'Beam', 'BitTorrent', 'Helium', 'TrueUSD', 'Terra']\n",
    "\n",
    "# Create a new dictionary to store the filtered data\n",
    "filtered_historical_data_corrected = {}\n",
    "\n",
    "for key, df in filtered_historical_data.items():\n",
    "    if not df.empty:\n",
    "        # Check if the key is not in the exclude list\n",
    "        if key not in exclude_keys:\n",
    "            filtered_historical_data_corrected[key] = df\n",
    "\n",
    "# Update the original dictionary to only include valid DataFrames\n",
    "filtered_historical_data = filtered_historical_data_corrected"
   ],
   "metadata": {
    "collapsed": false
   }
  },
  {
   "cell_type": "code",
   "execution_count": 94,
   "outputs": [
    {
     "name": "stdout",
     "output_type": "stream",
     "text": [
      "Bitcoin -start: 2021-01-01 00:00:00 to end: 2024-05-30 00:00:00, length: 1246\n",
      "Ethereum -start: 2021-01-01 00:00:00 to end: 2024-05-30 00:00:00, length: 1246\n",
      "BNB -start: 2021-01-01 00:00:00 to end: 2024-05-30 00:00:00, length: 1246\n",
      "Solana -start: 2021-01-01 00:00:00 to end: 2024-05-30 00:00:00, length: 1246\n",
      "XRP -start: 2021-01-01 00:00:00 to end: 2024-05-30 00:00:00, length: 1246\n",
      "Dogecoin -start: 2021-01-01 00:00:00 to end: 2024-05-30 00:00:00, length: 1246\n",
      "Cardano -start: 2021-01-01 00:00:00 to end: 2024-05-30 00:00:00, length: 1246\n",
      "Avalanche -start: 2021-01-01 00:00:00 to end: 2024-05-30 00:00:00, length: 1246\n",
      "Chainlink -start: 2021-01-01 00:00:00 to end: 2024-05-30 00:00:00, length: 1246\n",
      "TRON -start: 2021-01-01 00:00:00 to end: 2024-05-30 00:00:00, length: 1246\n",
      "Polkadot -start: 2021-01-01 00:00:00 to end: 2024-05-30 00:00:00, length: 1246\n",
      "Bitcoin Cash -start: 2021-01-01 00:00:00 to end: 2024-05-30 00:00:00, length: 1246\n",
      "Uniswap -start: 2021-01-01 00:00:00 to end: 2024-05-30 00:00:00, length: 1246\n",
      "NEAR Protocol -start: 2021-01-01 00:00:00 to end: 2024-05-30 00:00:00, length: 1246\n",
      "Polygon -start: 2021-01-01 00:00:00 to end: 2024-05-30 00:00:00, length: 1246\n",
      "Litecoin -start: 2021-01-01 00:00:00 to end: 2024-05-30 00:00:00, length: 1246\n",
      "Fetch.ai -start: 2021-01-01 00:00:00 to end: 2024-05-30 00:00:00, length: 1246\n",
      "Ethereum Classic -start: 2021-01-01 00:00:00 to end: 2024-05-30 00:00:00, length: 1246\n",
      "Hedera -start: 2021-01-01 00:00:00 to end: 2024-05-30 00:00:00, length: 1246\n",
      "Cosmos Hub -start: 2021-01-01 00:00:00 to end: 2024-05-30 00:00:00, length: 1246\n",
      "Filecoin -start: 2021-01-01 00:00:00 to end: 2024-05-30 00:00:00, length: 1246\n",
      "Stellar -start: 2021-01-01 00:00:00 to end: 2024-05-30 00:00:00, length: 1246\n",
      "The Graph -start: 2021-01-01 00:00:00 to end: 2024-05-30 00:00:00, length: 1246\n",
      "Stacks -start: 2021-01-01 00:00:00 to end: 2024-05-30 00:00:00, length: 1246\n",
      "Maker -start: 2021-01-01 00:00:00 to end: 2024-05-30 00:00:00, length: 1246\n",
      "VeChain -start: 2021-01-01 00:00:00 to end: 2024-05-30 00:00:00, length: 1246\n",
      "Injective -start: 2021-01-01 00:00:00 to end: 2024-05-30 00:00:00, length: 1246\n",
      "Theta Network -start: 2021-01-01 00:00:00 to end: 2024-05-30 00:00:00, length: 1246\n",
      "Fantom -start: 2021-01-01 00:00:00 to end: 2024-05-30 00:00:00, length: 1246\n",
      "THORChain -start: 2021-01-01 00:00:00 to end: 2024-05-30 00:00:00, length: 1246\n",
      "Algorand -start: 2021-01-01 00:00:00 to end: 2024-05-30 00:00:00, length: 1246\n",
      "Aave -start: 2021-01-01 00:00:00 to end: 2024-05-30 00:00:00, length: 1246\n",
      "Chiliz -start: 2021-01-01 00:00:00 to end: 2024-05-30 00:00:00, length: 1246\n",
      "Axie Infinity -start: 2021-01-01 00:00:00 to end: 2024-05-30 00:00:00, length: 1246\n",
      "MultiversX -start: 2021-01-01 00:00:00 to end: 2024-05-30 00:00:00, length: 1246\n",
      "NEO -start: 2021-01-01 00:00:00 to end: 2024-05-30 00:00:00, length: 1246\n",
      "The Sandbox -start: 2021-01-01 00:00:00 to end: 2024-05-30 00:00:00, length: 1246\n",
      "Tezos -start: 2021-01-01 00:00:00 to end: 2024-05-30 00:00:00, length: 1246\n",
      "EOS -start: 2021-01-01 00:00:00 to end: 2024-05-30 00:00:00, length: 1246\n",
      "Synthetix Network -start: 2021-01-01 00:00:00 to end: 2024-05-30 00:00:00, length: 1246\n",
      "Decentraland -start: 2021-01-01 00:00:00 to end: 2024-05-30 00:00:00, length: 1246\n",
      "Kava -start: 2021-01-01 00:00:00 to end: 2024-05-30 00:00:00, length: 1246\n",
      "IOTA -start: 2021-01-01 00:00:00 to end: 2024-05-30 00:00:00, length: 1246\n",
      "Oasis Network -start: 2021-01-01 00:00:00 to end: 2024-05-30 00:00:00, length: 1246\n",
      "Theta Fuel -start: 2021-01-01 00:00:00 to end: 2024-05-30 00:00:00, length: 1246\n",
      "Ocean Protocol -start: 2021-01-01 00:00:00 to end: 2024-05-30 00:00:00, length: 1246\n",
      "1inch -start: 2021-01-01 00:00:00 to end: 2024-05-30 00:00:00, length: 1246\n",
      "Curve DAO -start: 2021-01-01 00:00:00 to end: 2024-05-30 00:00:00, length: 1246\n",
      "IoTeX -start: 2021-01-01 00:00:00 to end: 2024-05-30 00:00:00, length: 1246\n",
      "Enjin Coin -start: 2021-01-01 00:00:00 to end: 2024-05-30 00:00:00, length: 1246\n",
      "Zilliqa -start: 2021-01-01 00:00:00 to end: 2024-05-30 00:00:00, length: 1246\n",
      "0x Protocol -start: 2021-01-01 00:00:00 to end: 2024-05-30 00:00:00, length: 1246\n",
      "Ankr Network -start: 2021-01-01 00:00:00 to end: 2024-05-30 00:00:00, length: 1246\n",
      "Holo -start: 2021-01-01 00:00:00 to end: 2024-05-30 00:00:00, length: 1246\n",
      "PAX Gold -start: 2021-01-01 00:00:00 to end: 2024-05-30 00:00:00, length: 1246\n",
      "SKALE -start: 2021-01-01 00:00:00 to end: 2024-05-30 00:00:00, length: 1246\n",
      "Compound -start: 2021-01-01 00:00:00 to end: 2024-05-30 00:00:00, length: 1246\n"
     ]
    }
   ],
   "source": [
    "for key, df in filtered_historical_data.items():\n",
    "    if not df.empty:\n",
    "        print(f'{key} -start: {df.iloc[0,0]} to end: {df.iloc[-1, 0]}, length: {len(df)}')"
   ],
   "metadata": {
    "collapsed": false
   }
  },
  {
   "cell_type": "code",
   "execution_count": 95,
   "outputs": [],
   "source": [
    "historical_data = filtered_historical_data"
   ],
   "metadata": {
    "collapsed": false
   }
  },
  {
   "cell_type": "code",
   "execution_count": 96,
   "outputs": [
    {
     "name": "stdout",
     "output_type": "stream",
     "text": [
      "Remaining keys: ['Bitcoin', 'Ethereum', 'BNB', 'Solana', 'XRP', 'Dogecoin', 'Cardano', 'Avalanche', 'Chainlink', 'TRON', 'Polkadot', 'Bitcoin Cash', 'Uniswap', 'NEAR Protocol', 'Polygon', 'Litecoin', 'Fetch.ai', 'Ethereum Classic', 'Hedera', 'Cosmos Hub', 'Filecoin', 'Stellar', 'The Graph', 'Stacks', 'Maker', 'VeChain', 'Injective', 'Theta Network', 'Fantom', 'THORChain', 'Algorand', 'Aave', 'Chiliz', 'Axie Infinity', 'MultiversX', 'NEO', 'The Sandbox', 'Tezos', 'EOS', 'Synthetix Network', 'Decentraland', 'Kava', 'IOTA', 'Oasis Network', 'Theta Fuel', 'Ocean Protocol', '1inch', 'Curve DAO', 'IoTeX', 'Enjin Coin', 'Zilliqa', '0x Protocol', 'Ankr Network', 'Holo', 'PAX Gold', 'SKALE', 'Compound']\n",
      "57\n",
      "Bitcoin - start: 2021-01-01 00:00:00 to end: 2024-05-30 00:00:00, length: 1246\n",
      "Ethereum - start: 2021-01-01 00:00:00 to end: 2024-05-30 00:00:00, length: 1246\n",
      "BNB - start: 2021-01-01 00:00:00 to end: 2024-05-30 00:00:00, length: 1246\n",
      "Solana - start: 2021-01-01 00:00:00 to end: 2024-05-30 00:00:00, length: 1246\n",
      "XRP - start: 2021-01-01 00:00:00 to end: 2024-05-30 00:00:00, length: 1246\n",
      "Dogecoin - start: 2021-01-01 00:00:00 to end: 2024-05-30 00:00:00, length: 1246\n",
      "Cardano - start: 2021-01-01 00:00:00 to end: 2024-05-30 00:00:00, length: 1246\n",
      "Avalanche - start: 2021-01-01 00:00:00 to end: 2024-05-30 00:00:00, length: 1246\n",
      "Chainlink - start: 2021-01-01 00:00:00 to end: 2024-05-30 00:00:00, length: 1246\n",
      "TRON - start: 2021-01-01 00:00:00 to end: 2024-05-30 00:00:00, length: 1246\n",
      "Polkadot - start: 2021-01-01 00:00:00 to end: 2024-05-30 00:00:00, length: 1246\n",
      "Bitcoin Cash - start: 2021-01-01 00:00:00 to end: 2024-05-30 00:00:00, length: 1246\n",
      "Uniswap - start: 2021-01-01 00:00:00 to end: 2024-05-30 00:00:00, length: 1246\n",
      "NEAR Protocol - start: 2021-01-01 00:00:00 to end: 2024-05-30 00:00:00, length: 1246\n",
      "Polygon - start: 2021-01-01 00:00:00 to end: 2024-05-30 00:00:00, length: 1246\n",
      "Litecoin - start: 2021-01-01 00:00:00 to end: 2024-05-30 00:00:00, length: 1246\n",
      "Fetch.ai - start: 2021-01-01 00:00:00 to end: 2024-05-30 00:00:00, length: 1246\n",
      "Ethereum Classic - start: 2021-01-01 00:00:00 to end: 2024-05-30 00:00:00, length: 1246\n",
      "Hedera - start: 2021-01-01 00:00:00 to end: 2024-05-30 00:00:00, length: 1246\n",
      "Cosmos Hub - start: 2021-01-01 00:00:00 to end: 2024-05-30 00:00:00, length: 1246\n",
      "Filecoin - start: 2021-01-01 00:00:00 to end: 2024-05-30 00:00:00, length: 1246\n",
      "Stellar - start: 2021-01-01 00:00:00 to end: 2024-05-30 00:00:00, length: 1246\n",
      "The Graph - start: 2021-01-01 00:00:00 to end: 2024-05-30 00:00:00, length: 1246\n",
      "Stacks - start: 2021-01-01 00:00:00 to end: 2024-05-30 00:00:00, length: 1246\n",
      "Maker - start: 2021-01-01 00:00:00 to end: 2024-05-30 00:00:00, length: 1246\n",
      "VeChain - start: 2021-01-01 00:00:00 to end: 2024-05-30 00:00:00, length: 1246\n",
      "Injective - start: 2021-01-01 00:00:00 to end: 2024-05-30 00:00:00, length: 1246\n",
      "Theta Network - start: 2021-01-01 00:00:00 to end: 2024-05-30 00:00:00, length: 1246\n",
      "Fantom - start: 2021-01-01 00:00:00 to end: 2024-05-30 00:00:00, length: 1246\n",
      "THORChain - start: 2021-01-01 00:00:00 to end: 2024-05-30 00:00:00, length: 1246\n",
      "Algorand - start: 2021-01-01 00:00:00 to end: 2024-05-30 00:00:00, length: 1246\n",
      "Aave - start: 2021-01-01 00:00:00 to end: 2024-05-30 00:00:00, length: 1246\n",
      "Chiliz - start: 2021-01-01 00:00:00 to end: 2024-05-30 00:00:00, length: 1246\n",
      "Axie Infinity - start: 2021-01-01 00:00:00 to end: 2024-05-30 00:00:00, length: 1246\n",
      "MultiversX - start: 2021-01-01 00:00:00 to end: 2024-05-30 00:00:00, length: 1246\n",
      "NEO - start: 2021-01-01 00:00:00 to end: 2024-05-30 00:00:00, length: 1246\n",
      "The Sandbox - start: 2021-01-01 00:00:00 to end: 2024-05-30 00:00:00, length: 1246\n",
      "Tezos - start: 2021-01-01 00:00:00 to end: 2024-05-30 00:00:00, length: 1246\n",
      "EOS - start: 2021-01-01 00:00:00 to end: 2024-05-30 00:00:00, length: 1246\n",
      "Synthetix Network - start: 2021-01-01 00:00:00 to end: 2024-05-30 00:00:00, length: 1246\n",
      "Decentraland - start: 2021-01-01 00:00:00 to end: 2024-05-30 00:00:00, length: 1246\n",
      "Kava - start: 2021-01-01 00:00:00 to end: 2024-05-30 00:00:00, length: 1246\n",
      "IOTA - start: 2021-01-01 00:00:00 to end: 2024-05-30 00:00:00, length: 1246\n",
      "Oasis Network - start: 2021-01-01 00:00:00 to end: 2024-05-30 00:00:00, length: 1246\n",
      "Theta Fuel - start: 2021-01-01 00:00:00 to end: 2024-05-30 00:00:00, length: 1246\n",
      "Ocean Protocol - start: 2021-01-01 00:00:00 to end: 2024-05-30 00:00:00, length: 1246\n",
      "1inch - start: 2021-01-01 00:00:00 to end: 2024-05-30 00:00:00, length: 1246\n",
      "Curve DAO - start: 2021-01-01 00:00:00 to end: 2024-05-30 00:00:00, length: 1246\n",
      "IoTeX - start: 2021-01-01 00:00:00 to end: 2024-05-30 00:00:00, length: 1246\n",
      "Enjin Coin - start: 2021-01-01 00:00:00 to end: 2024-05-30 00:00:00, length: 1246\n",
      "Zilliqa - start: 2021-01-01 00:00:00 to end: 2024-05-30 00:00:00, length: 1246\n",
      "0x Protocol - start: 2021-01-01 00:00:00 to end: 2024-05-30 00:00:00, length: 1246\n",
      "Ankr Network - start: 2021-01-01 00:00:00 to end: 2024-05-30 00:00:00, length: 1246\n",
      "Holo - start: 2021-01-01 00:00:00 to end: 2024-05-30 00:00:00, length: 1246\n",
      "PAX Gold - start: 2021-01-01 00:00:00 to end: 2024-05-30 00:00:00, length: 1246\n",
      "SKALE - start: 2021-01-01 00:00:00 to end: 2024-05-30 00:00:00, length: 1246\n",
      "Compound - start: 2021-01-01 00:00:00 to end: 2024-05-30 00:00:00, length: 1246\n"
     ]
    }
   ],
   "source": [
    "# Output the remaining keys to confirm\n",
    "print(\"Remaining keys:\", list(historical_data.keys()))\n",
    "print(len(historical_data.keys()))\n",
    "\n",
    "# Optional: Print start and end dates and length of each DataFrame to verify\n",
    "for key, df in historical_data.items():\n",
    "    if not df.empty:\n",
    "        print(f'{key} - start: {df.iloc[0, 0]} to end: {df.iloc[-1, 0]}, length: {len(df)}')"
   ],
   "metadata": {
    "collapsed": false
   }
  },
  {
   "cell_type": "code",
   "execution_count": 97,
   "outputs": [
    {
     "name": "stdout",
     "output_type": "stream",
     "text": [
      "1246\n",
      "1246\n",
      "1246\n",
      "1246\n",
      "1246\n",
      "1246\n",
      "1246\n",
      "1246\n",
      "1246\n",
      "1246\n",
      "1246\n",
      "1246\n",
      "1246\n",
      "1246\n",
      "1246\n",
      "1246\n",
      "1246\n",
      "1246\n",
      "1246\n",
      "1246\n",
      "1246\n",
      "1246\n",
      "1246\n",
      "1246\n",
      "1246\n",
      "1246\n",
      "1246\n",
      "1246\n",
      "1246\n",
      "1246\n",
      "1246\n",
      "1246\n",
      "1246\n",
      "1246\n",
      "1246\n",
      "1246\n",
      "1246\n",
      "1246\n",
      "1246\n",
      "1246\n",
      "1246\n",
      "1246\n",
      "1246\n",
      "1246\n",
      "1246\n",
      "1246\n",
      "1246\n",
      "1246\n",
      "1246\n",
      "1246\n",
      "1246\n",
      "1246\n",
      "1246\n",
      "1246\n",
      "1246\n",
      "1246\n",
      "1246\n"
     ]
    }
   ],
   "source": [
    "for df in historical_data.values():\n",
    "    print(len(df))"
   ],
   "metadata": {
    "collapsed": false
   }
  },
  {
   "cell_type": "code",
   "execution_count": 98,
   "outputs": [
    {
     "name": "stdout",
     "output_type": "stream",
     "text": [
      "Bitcoin - start: 2021-01-01 00:00:00 to end: 2024-05-30 00:00:00\n",
      "Ethereum - start: 2021-01-01 00:00:00 to end: 2024-05-30 00:00:00\n",
      "BNB - start: 2021-01-01 00:00:00 to end: 2024-05-30 00:00:00\n",
      "Solana - start: 2021-01-01 00:00:00 to end: 2024-05-30 00:00:00\n",
      "XRP - start: 2021-01-01 00:00:00 to end: 2024-05-30 00:00:00\n",
      "Dogecoin - start: 2021-01-01 00:00:00 to end: 2024-05-30 00:00:00\n",
      "Cardano - start: 2021-01-01 00:00:00 to end: 2024-05-30 00:00:00\n",
      "Avalanche - start: 2021-01-01 00:00:00 to end: 2024-05-30 00:00:00\n",
      "Chainlink - start: 2021-01-01 00:00:00 to end: 2024-05-30 00:00:00\n",
      "TRON - start: 2021-01-01 00:00:00 to end: 2024-05-30 00:00:00\n",
      "Polkadot - start: 2021-01-01 00:00:00 to end: 2024-05-30 00:00:00\n",
      "Bitcoin Cash - start: 2021-01-01 00:00:00 to end: 2024-05-30 00:00:00\n",
      "Uniswap - start: 2021-01-01 00:00:00 to end: 2024-05-30 00:00:00\n",
      "NEAR Protocol - start: 2021-01-01 00:00:00 to end: 2024-05-30 00:00:00\n",
      "Polygon - start: 2021-01-01 00:00:00 to end: 2024-05-30 00:00:00\n",
      "Litecoin - start: 2021-01-01 00:00:00 to end: 2024-05-30 00:00:00\n",
      "Fetch.ai - start: 2021-01-01 00:00:00 to end: 2024-05-30 00:00:00\n",
      "Ethereum Classic - start: 2021-01-01 00:00:00 to end: 2024-05-30 00:00:00\n",
      "Hedera - start: 2021-01-01 00:00:00 to end: 2024-05-30 00:00:00\n",
      "Cosmos Hub - start: 2021-01-01 00:00:00 to end: 2024-05-30 00:00:00\n",
      "Filecoin - start: 2021-01-01 00:00:00 to end: 2024-05-30 00:00:00\n",
      "Stellar - start: 2021-01-01 00:00:00 to end: 2024-05-30 00:00:00\n",
      "The Graph - start: 2021-01-01 00:00:00 to end: 2024-05-30 00:00:00\n",
      "Stacks - start: 2021-01-01 00:00:00 to end: 2024-05-30 00:00:00\n",
      "Maker - start: 2021-01-01 00:00:00 to end: 2024-05-30 00:00:00\n",
      "VeChain - start: 2021-01-01 00:00:00 to end: 2024-05-30 00:00:00\n",
      "Injective - start: 2021-01-01 00:00:00 to end: 2024-05-30 00:00:00\n",
      "Theta Network - start: 2021-01-01 00:00:00 to end: 2024-05-30 00:00:00\n",
      "Fantom - start: 2021-01-01 00:00:00 to end: 2024-05-30 00:00:00\n",
      "THORChain - start: 2021-01-01 00:00:00 to end: 2024-05-30 00:00:00\n",
      "Algorand - start: 2021-01-01 00:00:00 to end: 2024-05-30 00:00:00\n",
      "Aave - start: 2021-01-01 00:00:00 to end: 2024-05-30 00:00:00\n",
      "Chiliz - start: 2021-01-01 00:00:00 to end: 2024-05-30 00:00:00\n",
      "Axie Infinity - start: 2021-01-01 00:00:00 to end: 2024-05-30 00:00:00\n",
      "MultiversX - start: 2021-01-01 00:00:00 to end: 2024-05-30 00:00:00\n",
      "NEO - start: 2021-01-01 00:00:00 to end: 2024-05-30 00:00:00\n",
      "The Sandbox - start: 2021-01-01 00:00:00 to end: 2024-05-30 00:00:00\n",
      "Tezos - start: 2021-01-01 00:00:00 to end: 2024-05-30 00:00:00\n",
      "EOS - start: 2021-01-01 00:00:00 to end: 2024-05-30 00:00:00\n",
      "Synthetix Network - start: 2021-01-01 00:00:00 to end: 2024-05-30 00:00:00\n",
      "Decentraland - start: 2021-01-01 00:00:00 to end: 2024-05-30 00:00:00\n",
      "Kava - start: 2021-01-01 00:00:00 to end: 2024-05-30 00:00:00\n",
      "IOTA - start: 2021-01-01 00:00:00 to end: 2024-05-30 00:00:00\n",
      "Oasis Network - start: 2021-01-01 00:00:00 to end: 2024-05-30 00:00:00\n",
      "Theta Fuel - start: 2021-01-01 00:00:00 to end: 2024-05-30 00:00:00\n",
      "Ocean Protocol - start: 2021-01-01 00:00:00 to end: 2024-05-30 00:00:00\n",
      "1inch - start: 2021-01-01 00:00:00 to end: 2024-05-30 00:00:00\n",
      "Curve DAO - start: 2021-01-01 00:00:00 to end: 2024-05-30 00:00:00\n",
      "IoTeX - start: 2021-01-01 00:00:00 to end: 2024-05-30 00:00:00\n",
      "Enjin Coin - start: 2021-01-01 00:00:00 to end: 2024-05-30 00:00:00\n",
      "Zilliqa - start: 2021-01-01 00:00:00 to end: 2024-05-30 00:00:00\n",
      "0x Protocol - start: 2021-01-01 00:00:00 to end: 2024-05-30 00:00:00\n",
      "Ankr Network - start: 2021-01-01 00:00:00 to end: 2024-05-30 00:00:00\n",
      "Holo - start: 2021-01-01 00:00:00 to end: 2024-05-30 00:00:00\n",
      "PAX Gold - start: 2021-01-01 00:00:00 to end: 2024-05-30 00:00:00\n",
      "SKALE - start: 2021-01-01 00:00:00 to end: 2024-05-30 00:00:00\n",
      "Compound - start: 2021-01-01 00:00:00 to end: 2024-05-30 00:00:00\n"
     ]
    }
   ],
   "source": [
    "# Optional: Print start and end dates of each DataFrame to verify\n",
    "for key, df in historical_data.items():\n",
    "    print(f'{key} - start: {df.iloc[0, 0]} to end: {df.iloc[-1, 0]}')"
   ],
   "metadata": {
    "collapsed": false
   }
  },
  {
   "cell_type": "code",
   "execution_count": 99,
   "outputs": [],
   "source": [
    "# Assuming you have a dictionary of DataFrames where each DataFrame represents data for a coin\n",
    "# The dictionary keys represent the coin names\n",
    "\n",
    "# Initialize an empty dictionary to store integral of paths for each coin\n",
    "daily_percent_change_dict = {}\n",
    "\n",
    "# Compute the daily change for each coin\n",
    "for coin, df in historical_data.items():\n",
    "    daily_percent_changes_list = []  # Create a new list for each coin\n",
    "    for i in range(len(df)-1):\n",
    "        # Assuming the 5th column is index 4\n",
    "        daily_change = (float(df.iloc[i+1, 4]) - float(df.iloc[i, 4])) / float(df.iloc[i, 4]) * 100\n",
    "        daily_percent_changes_list.append(round(daily_change, 2))  # Round to 2 decimal places\n",
    "    daily_percent_change_dict[coin] = daily_percent_changes_list"
   ],
   "metadata": {
    "collapsed": false
   }
  },
  {
   "cell_type": "code",
   "execution_count": 100,
   "outputs": [
    {
     "data": {
      "text/plain": "[-2.29,\n 21.0,\n 14.37,\n -13.14,\n -10.27,\n 21.74,\n 36.3,\n 5.01,\n 1.95,\n -10.07,\n 17.21,\n -3.06,\n -6.59,\n -1.35,\n 5.46,\n 11.74,\n -1.05,\n -4.18,\n 2.42,\n -19.55,\n 11.55,\n 5.18,\n 3.42,\n 2.09,\n 9.1,\n -9.06,\n 3.67,\n 0.51,\n 10.41,\n 0.58,\n 8.52,\n 13.4,\n 9.52,\n 11.82,\n 4.56,\n -8.63,\n 9.39,\n 17.28,\n -0.69,\n 16.53,\n 1.21,\n -0.0,\n -4.96,\n -0.32,\n 1.56,\n -6.23,\n -0.78,\n 9.0,\n 28.01,\n -13.09,\n 10.9,\n 30.19,\n 5.58,\n 12.77,\n -19.37,\n -1.79,\n -2.98,\n -0.78,\n 14.49,\n -6.95,\n 0.94,\n -7.27,\n -3.93,\n 4.02,\n 5.94,\n -1.55,\n 9.09,\n -4.27,\n 12.86,\n -9.18,\n 5.11,\n -5.51,\n -2.09,\n -3.66,\n 4.12,\n 0.02,\n -0.34,\n 0.24,\n 1.04,\n 3.2,\n -4.33,\n -3.94,\n -4.55,\n 13.77,\n 11.46,\n 9.76,\n 4.9,\n 0.62,\n 1.67,\n -1.76,\n 3.71,\n 13.92,\n 5.67,\n -3.38,\n 9.07,\n 5.92,\n 1.51,\n 2.52,\n -2.95,\n 3.92,\n 2.48,\n -3.82,\n -3.8,\n 5.21,\n -8.93,\n -1.78,\n 30.12,\n -2.67,\n 0.74,\n 2.68,\n 19.5,\n -3.88,\n 9.23,\n 16.07,\n -7.44,\n -1.67,\n 3.91,\n -5.24,\n 0.71,\n 16.09,\n -5.58,\n -2.1,\n -7.14,\n 5.5,\n -3.3,\n -0.72,\n 5.63,\n -2.81,\n -3.33,\n 3.93,\n -1.86,\n -6.09,\n 4.02,\n 1.84,\n 7.74,\n -0.3,\n 19.84,\n -37.5,\n 26.96,\n -12.37,\n -19.79,\n -21.41,\n 28.04,\n -4.59,\n 18.21,\n -4.75,\n -14.1,\n -5.52,\n 4.38,\n 14.56,\n -5.53,\n 9.88,\n 16.5,\n -5.72,\n 6.15,\n 6.49,\n -9.41,\n 7.87,\n 1.91,\n -2.21,\n -12.04,\n 0.88,\n 6.11,\n 2.55,\n -0.4,\n 0.49,\n -1.17,\n -6.23,\n -4.43,\n 0.19,\n -24.58,\n 1.38,\n 14.39,\n 0.99,\n -8.03,\n 3.69,\n 7.4,\n 3.46,\n 2.94,\n 4.53,\n -6.31,\n 2.19,\n 1.46,\n -0.63,\n -4.0,\n 4.01,\n 7.15,\n -9.63,\n 0.52,\n -4.87,\n 1.54,\n -4.39,\n -5.31,\n 7.65,\n -8.99,\n -7.97,\n 2.02,\n -0.48,\n -8.11,\n -4.22,\n 13.74,\n 3.74,\n 2.95,\n 0.35,\n -1.29,\n -0.23,\n -0.29,\n -0.81,\n 12.05,\n 3.58,\n 13.57,\n -7.02,\n -2.92,\n 2.83,\n 4.85,\n 4.45,\n 5.81,\n -0.14,\n -4.61,\n 2.65,\n 5.16,\n 2.41,\n -1.25,\n 9.07,\n -1.54,\n 21.28,\n 15.85,\n 3.4,\n 13.32,\n 0.14,\n 8.08,\n -6.16,\n -1.39,\n 3.91,\n -6.74,\n 2.05,\n 4.09,\n 17.43,\n 9.37,\n -2.07,\n 17.0,\n -1.8,\n 2.25,\n 15.83,\n 14.17,\n -5.14,\n 2.25,\n 15.65,\n 5.63,\n 10.12,\n -1.63,\n -4.42,\n -0.31,\n -2.65,\n -2.73,\n -6.28,\n -0.06,\n -4.09,\n -3.09,\n 14.66,\n -9.73,\n -13.09,\n -6.39,\n 19.09,\n 1.28,\n -7.19,\n -2.21,\n -0.31,\n 0.52,\n -3.04,\n 2.31,\n 4.52,\n 14.28,\n 4.59,\n 2.37,\n -3.38,\n -1.5,\n -6.53,\n 0.25,\n 2.98,\n -1.27,\n -5.92,\n -1.88,\n 5.22,\n -2.81,\n 1.34,\n 8.77,\n -3.46,\n 1.64,\n -1.87,\n -0.85,\n 13.44,\n 7.8,\n 3.04,\n 0.74,\n 2.22,\n 3.74,\n -4.7,\n -7.69,\n 5.92,\n 2.55,\n -2.35,\n 3.47,\n 0.7,\n 8.3,\n 10.21,\n 1.52,\n -4.46,\n 9.48,\n -3.39,\n -0.57,\n -3.71,\n -2.49,\n 0.12,\n -2.1,\n 5.74,\n -1.22,\n -0.18,\n -8.04,\n -0.05,\n -10.93,\n 10.38,\n 1.11,\n 5.92,\n -6.47,\n 2.86,\n -7.24,\n 2.08,\n -8.36,\n 0.17,\n 4.12,\n 1.69,\n 2.18,\n 10.2,\n 1.65,\n -9.4,\n -5.19,\n -2.11,\n -1.46,\n -1.74,\n 2.32,\n -6.94,\n -7.58,\n 2.84,\n 0.38,\n -10.18,\n 3.9,\n 10.7,\n -0.93,\n -0.76,\n 4.14,\n -1.56,\n -3.35,\n 3.29,\n -0.68,\n 6.52,\n 0.17,\n 1.44,\n 2.44,\n -1.08,\n -9.38,\n -3.77,\n 1.11,\n -1.47,\n 5.34,\n -1.51,\n -3.52,\n -1.43,\n -7.87,\n -2.76,\n -9.19,\n 4.17,\n -0.93,\n -3.52,\n 3.19,\n 8.07,\n -3.54,\n 0.02,\n 1.01,\n 0.23,\n -5.53,\n 1.02,\n -4.23,\n -5.7,\n -11.97,\n -15.79,\n 5.54,\n -7.87,\n 2.98,\n -2.69,\n -2.83,\n 2.04,\n 5.24,\n -2.95,\n 6.65,\n 10.58,\n -7.4,\n -0.11,\n 10.66,\n 1.0,\n 1.35,\n 1.97,\n -3.49,\n 0.42,\n -6.81,\n -9.08,\n -0.59,\n -3.24,\n 3.79,\n 9.49,\n -3.47,\n -8.19,\n -3.91,\n 1.57,\n -0.6,\n -8.55,\n 4.12,\n -2.07,\n 5.64,\n 3.75,\n -2.68,\n -5.1,\n 16.41,\n -1.02,\n 2.05,\n -5.03,\n -7.63,\n 1.48,\n -5.65,\n -3.44,\n 0.81,\n 6.97,\n -5.89,\n -2.65,\n 0.88,\n -3.26,\n 3.16,\n 1.99,\n 5.95,\n 0.03,\n 2.28,\n 2.8,\n -4.0,\n -0.03,\n 2.08,\n 4.93,\n 7.83,\n -3.64,\n 3.17,\n 5.22,\n -1.21,\n 5.55,\n 8.24,\n 1.61,\n 9.57,\n -1.51,\n 3.33,\n -3.48,\n -3.99,\n -10.97,\n 4.9,\n -7.22,\n 2.77,\n -1.67,\n -10.26,\n 3.56,\n 1.67,\n -3.97,\n 0.54,\n 0.74,\n -1.87,\n 2.18,\n 6.04,\n -2.69,\n -3.61,\n -1.21,\n 0.08,\n -1.39,\n 1.77,\n -5.24,\n 2.78,\n -0.12,\n -4.36,\n -9.93,\n 5.97,\n -2.43,\n -1.87,\n 8.05,\n -8.89,\n -3.36,\n -3.45,\n -4.41,\n -17.54,\n 7.63,\n -23.92,\n -12.3,\n 9.59,\n 7.17,\n 12.21,\n -8.57,\n 6.0,\n -12.43,\n 4.55,\n -5.31,\n 1.78,\n 4.31,\n -6.31,\n 1.02,\n -3.4,\n -9.46,\n -5.23,\n 7.48,\n 1.65,\n 4.98,\n -3.07,\n -12.37,\n 1.84,\n -6.29,\n 1.88,\n -1.23,\n 10.05,\n -7.27,\n -1.22,\n 2.91,\n -6.98,\n -8.72,\n -9.78,\n -6.57,\n 3.46,\n 17.47,\n -13.35,\n 1.96,\n 4.27,\n 6.78,\n 3.07,\n 3.35,\n -6.32,\n 11.81,\n 9.86,\n 0.74,\n -6.7,\n -2.21,\n -8.23,\n -3.68,\n -0.85,\n -2.73,\n 1.58,\n 0.09,\n 9.94,\n -3.57,\n 4.63,\n 3.83,\n -0.88,\n -0.16,\n -3.55,\n -8.96,\n -2.21,\n 6.92,\n 6.33,\n 0.57,\n 5.94,\n -2.43,\n 12.69,\n 3.1,\n -6.31,\n 2.55,\n -5.96,\n -1.41,\n 2.4,\n -10.46,\n -1.09,\n 10.98,\n 6.66,\n -2.33,\n 4.61,\n -3.4,\n -1.65,\n -4.47,\n -3.14,\n 0.75,\n 4.43,\n -1.18,\n 1.32,\n 3.89,\n -4.39,\n 5.31,\n 0.71,\n 6.34,\n 2.46,\n -3.71,\n -2.56,\n -1.46,\n -5.9,\n -2.52,\n -9.39,\n -1.48,\n 3.37,\n -2.91,\n 0.76,\n -2.21,\n 1.09,\n -10.07,\n -0.6,\n -3.46,\n 6.5,\n -2.93,\n 0.1,\n 0.35,\n -1.2,\n -0.35,\n 3.34,\n 0.06,\n -4.04,\n 5.86,\n 2.81,\n 3.15,\n 1.04,\n -0.11,\n 7.0,\n -11.86,\n 3.39,\n -3.08,\n -2.48,\n 4.43,\n -7.66,\n 4.89,\n -3.71,\n -2.42,\n 5.81,\n 3.79,\n -0.83,\n -3.12,\n 4.76,\n -3.51,\n 1.62,\n 2.14,\n -2.0,\n -2.44,\n -1.17,\n 2.59,\n 3.65,\n -0.15,\n -2.0,\n -1.14,\n -1.21,\n 1.04,\n -2.92,\n -3.63,\n 1.17,\n -2.15,\n -1.61,\n -1.37,\n 1.96,\n 3.45,\n -3.4,\n -4.28,\n -2.95,\n 0.32,\n -0.32,\n 4.53,\n -3.35,\n 9.05,\n 1.39,\n -2.27,\n 4.87,\n 2.49,\n 0.21,\n -1.15,\n -1.11,\n -4.35,\n 0.16,\n 9.37,\n 9.37,\n -11.6,\n -9.2,\n -17.69,\n -42.25,\n 25.43,\n -6.85,\n -11.37,\n -9.6,\n 6.22,\n 2.29,\n -0.35,\n -4.34,\n -2.78,\n -3.24,\n -4.44,\n -3.59,\n 5.16,\n 15.43,\n 1.6,\n -3.84,\n 1.0,\n -0.35,\n -5.67,\n 0.15,\n 6.15,\n -4.59,\n 1.48,\n -3.06,\n 3.16,\n 0.8,\n 3.47,\n -5.66,\n 1.48,\n -0.73,\n -0.07,\n -1.18,\n -0.82,\n 4.36,\n 1.66,\n -0.57,\n -12.75,\n 2.12,\n -1.04,\n -3.55,\n 2.68,\n -0.98,\n -2.64,\n -0.34,\n -2.8,\n -0.61,\n -0.53,\n -2.03,\n -11.99,\n -1.23,\n 2.7,\n 0.71,\n 0.2,\n 12.91,\n 18.53,\n 0.45,\n 0.0,\n 0.52,\n -2.96,\n 10.31,\n 12.46,\n -0.31,\n 0.99,\n 1.41,\n 10.25,\n 32.53,\n -5.57,\n 3.01,\n -3.05,\n -9.06,\n 2.93,\n 19.21,\n -3.68,\n -1.47,\n 0.5,\n -6.37,\n 7.64,\n -0.77,\n 0.41,\n -1.76,\n 8.62,\n -8.09,\n -0.17,\n 4.52,\n -2.72,\n 1.52,\n -1.42,\n -3.57,\n -3.45,\n 5.12,\n -2.52,\n -11.8,\n -1.81,\n 3.48,\n 3.27,\n -3.35,\n 5.15,\n 9.25,\n -6.79,\n 4.05,\n 1.34,\n 5.93,\n 5.72,\n -4.87,\n -3.28,\n -1.03,\n -3.51,\n -3.03,\n 3.93,\n -2.45,\n -3.48,\n 2.83,\n -2.27,\n -2.64,\n -2.05,\n -0.05,\n -1.62,\n -1.84,\n -9.09,\n -5.87,\n 4.85,\n -0.55,\n 11.79,\n 0.99,\n 2.25,\n -7.77,\n 2.23,\n 9.81,\n -1.85,\n 3.11,\n 1.24,\n 1.81,\n -4.93,\n 3.45,\n -6.77,\n -1.21,\n 2.6,\n -4.92,\n 2.71,\n 3.18,\n -2.61,\n 2.97,\n -0.38,\n -2.66,\n -0.34,\n 2.3,\n 0.24,\n -1.67,\n -0.87,\n -1.96,\n 1.2,\n 3.01,\n 10.0,\n 3.57,\n 2.65,\n 1.15,\n -2.67,\n 5.36,\n -3.0,\n 0.98,\n -8.7,\n -2.03,\n -4.28,\n 2.54,\n -1.47,\n -0.42,\n 2.57,\n -2.96,\n 4.93,\n 4.52,\n -0.64,\n -1.94,\n -3.43,\n 1.32,\n -0.04,\n -2.25,\n 4.97,\n -3.99,\n -1.14,\n -4.8,\n 0.15,\n 1.26,\n -3.54,\n 3.62,\n -0.29,\n 0.43,\n 0.29,\n -1.52,\n 1.89,\n -3.42,\n 0.1,\n -0.39,\n -3.3,\n -0.41,\n 2.51,\n -4.0,\n 0.16,\n 0.52,\n 5.58,\n 1.86,\n -1.15,\n 3.31,\n -2.07,\n -1.54,\n 3.76,\n -0.33,\n 2.97,\n -8.34,\n 1.9,\n -8.54,\n 1.34,\n -7.89,\n -10.29,\n -0.38,\n -2.32,\n -0.99,\n -3.72,\n 2.0,\n 3.66,\n 2.16,\n -1.21,\n 4.21,\n 3.35,\n 3.55,\n -3.54,\n 3.07,\n -2.86,\n 1.92,\n -4.07,\n 2.21,\n -3.97,\n 12.65,\n 4.84,\n -0.85,\n 4.01,\n -0.98,\n -0.67,\n -0.68,\n 3.21,\n 9.64,\n 1.44,\n -2.25,\n -0.09,\n 3.62,\n -0.59,\n 18.55,\n 2.54,\n 2.96,\n -0.15,\n -2.26,\n -4.7,\n 3.01,\n -3.53,\n 0.47,\n -3.84,\n 0.98,\n -5.61,\n -0.43,\n 8.17,\n -0.28,\n -1.12,\n 1.41,\n -3.66,\n -2.14,\n 1.35,\n -3.74,\n -2.16,\n 0.66,\n -0.66,\n 2.43,\n -0.34,\n 4.76,\n 0.66,\n 0.98,\n 0.0,\n 1.18,\n -2.73,\n 3.92,\n -5.08,\n -4.52,\n -5.08,\n -1.48,\n 2.62,\n -0.59,\n -2.62,\n -2.88,\n 5.59,\n -3.13,\n -3.04,\n -0.64,\n 2.46,\n -1.11,\n 5.98,\n -4.45,\n -5.19,\n -2.08,\n 0.88,\n 0.36,\n -0.26,\n 3.79,\n -3.06,\n 1.43,\n -1.56,\n -0.87,\n -6.17,\n -2.85,\n 1.13,\n 2.68,\n 2.45,\n 1.54,\n -0.1,\n -1.62,\n 4.41,\n 1.99,\n 1.3,\n -4.09,\n -0.15,\n 0.31,\n -0.67,\n 0.15,\n -1.86,\n 0.58,\n 4.28,\n ...]"
     },
     "execution_count": 100,
     "metadata": {},
     "output_type": "execute_result"
    }
   ],
   "source": [
    "daily_percent_change_dict['Solana']"
   ],
   "metadata": {
    "collapsed": false
   }
  },
  {
   "cell_type": "code",
   "execution_count": 105,
   "outputs": [
    {
     "data": {
      "text/plain": "[1.21,\n 7.91,\n -0.3,\n 1.67,\n 1.0,\n 3.15,\n -2.79,\n 3.52,\n -3.3,\n -9.99,\n 0.23,\n 4.86,\n 4.39,\n -2.4,\n 5.57,\n 6.32,\n -1.15,\n -6.21,\n 0.19,\n -9.32,\n 5.85,\n 0.04,\n 2.24,\n 0.02,\n 0.01,\n -2.29,\n 4.02,\n 0.79,\n 4.49,\n -1.02,\n 16.13,\n -0.91,\n 2.18,\n 7.37,\n 20.98,\n 7.59,\n -6.15,\n 16.8,\n 34.46,\n 20.14,\n -3.79,\n 10.1,\n -2.39,\n 1.88,\n -4.09,\n -0.09,\n 26.99,\n 18.31,\n 70.3,\n -24.05,\n 16.7,\n -9.4,\n -13.51,\n 10.0,\n -7.7,\n -5.62,\n 1.65,\n -6.73,\n 21.29,\n -5.99,\n 0.37,\n -4.54,\n -1.81,\n 0.4,\n 6.06,\n 0.18,\n 21.89,\n -5.03,\n 4.16,\n -9.24,\n 4.96,\n -4.72,\n -3.31,\n 1.58,\n 4.35,\n -3.08,\n 0.56,\n 0.52,\n 0.13,\n -3.72,\n 0.26,\n -2.72,\n -5.87,\n 9.09,\n 5.49,\n -0.3,\n 2.56,\n 13.08,\n -2.87,\n 10.72,\n 1.04,\n -4.83,\n 8.36,\n 5.49,\n 9.6,\n -6.89,\n 11.49,\n 8.43,\n 3.81,\n 11.59,\n 13.46,\n -7.55,\n -0.29,\n -1.48,\n -6.2,\n 1.26,\n -6.46,\n 4.69,\n 16.33,\n -7.29,\n -7.06,\n 4.21,\n -5.61,\n 1.61,\n 6.01,\n 6.25,\n -1.05,\n 6.56,\n 3.83,\n -0.43,\n 0.29,\n 8.74,\n -9.89,\n 6.86,\n -2.63,\n -1.53,\n 3.49,\n 2.42,\n -4.63,\n 6.47,\n -11.5,\n -3.96,\n 5.52,\n -6.51,\n 0.16,\n -9.26,\n -0.82,\n -34.08,\n 16.84,\n -16.66,\n -8.05,\n -13.02,\n 32.57,\n -0.71,\n 10.48,\n -2.5,\n -11.05,\n -7.23,\n 6.73,\n 8.53,\n 2.56,\n 10.8,\n 6.71,\n -8.82,\n -0.16,\n 0.94,\n -9.08,\n -1.53,\n 6.54,\n -6.28,\n -1.76,\n -0.59,\n 6.43,\n 1.2,\n -1.0,\n -5.26,\n 1.62,\n -4.45,\n -0.93,\n 1.52,\n -20.15,\n -3.2,\n 13.03,\n 4.18,\n -9.01,\n -0.41,\n 4.01,\n -0.3,\n 3.72,\n 0.97,\n -5.36,\n -0.09,\n 3.82,\n 3.18,\n -1.82,\n 5.93,\n 2.37,\n -5.3,\n 2.24,\n -0.31,\n 1.91,\n -1.87,\n -2.27,\n 0.15,\n 2.17,\n -4.19,\n -0.78,\n 0.53,\n -7.14,\n -5.74,\n 10.9,\n 0.03,\n 2.01,\n 0.77,\n 0.33,\n 0.48,\n 3.12,\n 0.1,\n 1.03,\n 1.75,\n 3.04,\n 0.06,\n -0.61,\n -2.15,\n 3.51,\n 0.94,\n 1.33,\n 4.03,\n -4.04,\n 3.67,\n 4.97,\n 5.12,\n -1.36,\n 6.51,\n -0.51,\n 1.32,\n 0.4,\n -3.35,\n -1.41,\n 8.87,\n 5.49,\n -1.36,\n -0.01,\n 11.23,\n -5.5,\n 6.69,\n -4.99,\n 3.43,\n -1.68,\n -1.34,\n -4.04,\n 0.78,\n 5.5,\n -1.16,\n 0.99,\n 1.88,\n 1.43,\n -1.72,\n -15.6,\n -0.88,\n 1.52,\n -4.72,\n 0.92,\n 2.76,\n -4.13,\n 3.81,\n 4.1,\n -1.62,\n -4.17,\n 1.01,\n -0.51,\n -10.89,\n -5.41,\n 10.05,\n 1.19,\n -7.43,\n -1.52,\n -1.6,\n -2.47,\n -0.75,\n 10.42,\n 5.38,\n 8.77,\n 1.33,\n 0.8,\n -0.98,\n 3.71,\n -1.63,\n 0.83,\n -4.4,\n 0.64,\n -4.22,\n 2.23,\n 7.53,\n 5.99,\n 0.4,\n 0.38,\n -1.83,\n 1.09,\n 2.97,\n 0.66,\n 2.7,\n -6.06,\n 1.78,\n 1.29,\n -2.0,\n 1.95,\n -1.44,\n -6.15,\n 9.63,\n 7.81,\n -0.38,\n -0.7,\n 5.09,\n 0.56,\n 2.53,\n -1.71,\n 8.7,\n 5.01,\n 1.87,\n 0.6,\n -2.83,\n -3.29,\n 2.33,\n -0.24,\n 3.61,\n 0.2,\n -2.61,\n -7.12,\n -1.82,\n -7.99,\n 9.25,\n 4.01,\n -3.36,\n -4.23,\n 5.69,\n -0.14,\n 8.27,\n -8.11,\n 2.15,\n 1.9,\n 1.98,\n -0.14,\n 0.8,\n -1.21,\n -4.02,\n -4.44,\n -1.9,\n 5.32,\n -1.5,\n 4.92,\n -6.09,\n -3.12,\n 2.19,\n 1.03,\n -8.64,\n 1.36,\n 2.46,\n -2.75,\n -0.13,\n 1.6,\n -0.77,\n -1.09,\n 0.82,\n 1.0,\n 2.89,\n -1.26,\n 0.98,\n -0.18,\n 3.17,\n -5.23,\n -3.69,\n 0.78,\n -1.37,\n 3.11,\n 0.7,\n -3.6,\n -0.98,\n -6.47,\n -0.32,\n -5.18,\n -4.06,\n 2.05,\n -3.19,\n 9.16,\n 5.22,\n -2.58,\n 3.11,\n 0.92,\n 0.83,\n -4.69,\n -0.8,\n -2.02,\n -4.7,\n -12.79,\n -6.67,\n 7.14,\n -3.28,\n 3.72,\n -2.6,\n 3.95,\n -1.03,\n 0.88,\n -3.11,\n -0.77,\n 2.64,\n -4.5,\n 1.47,\n 7.31,\n 3.55,\n 1.5,\n 3.24,\n -5.93,\n 3.7,\n -1.94,\n -3.54,\n 0.9,\n -1.41,\n 1.38,\n 7.19,\n -1.18,\n -5.83,\n -0.8,\n 0.15,\n -4.8,\n -6.31,\n 4.96,\n -2.32,\n -1.2,\n 3.82,\n -0.35,\n -3.64,\n 9.86,\n 3.31,\n 0.15,\n -1.64,\n -7.05,\n 2.81,\n -2.52,\n 1.49,\n 0.21,\n 3.09,\n -5.39,\n -0.03,\n 0.13,\n -2.95,\n 3.32,\n -0.46,\n 3.69,\n 1.66,\n 1.38,\n 0.68,\n -2.28,\n 1.33,\n 2.1,\n 1.01,\n 1.42,\n -0.94,\n 1.34,\n 3.54,\n -0.07,\n 0.93,\n 1.82,\n -2.99,\n 4.38,\n -2.35,\n 3.02,\n -0.62,\n -0.65,\n -5.53,\n 3.78,\n -3.33,\n 1.21,\n -1.99,\n -5.62,\n 4.82,\n 2.37,\n -2.05,\n 0.63,\n 0.0,\n -2.56,\n 2.51,\n 1.32,\n -0.92,\n -3.23,\n 0.42,\n -1.35,\n -0.57,\n 1.38,\n -4.55,\n 1.4,\n 4.04,\n -3.46,\n -4.05,\n 3.39,\n -0.1,\n -1.44,\n 4.87,\n -6.01,\n 0.18,\n -3.59,\n -2.63,\n -16.8,\n 7.77,\n -14.92,\n -0.92,\n 8.03,\n 2.17,\n 5.22,\n -4.87,\n 3.03,\n -6.04,\n 6.74,\n -1.6,\n 3.38,\n 2.24,\n -0.69,\n 3.5,\n -0.79,\n -6.97,\n -0.46,\n 1.96,\n -0.55,\n 5.23,\n -0.28,\n -6.39,\n 2.63,\n -3.15,\n 0.9,\n -0.73,\n -1.34,\n -1.63,\n -0.62,\n 0.49,\n -1.21,\n -5.76,\n -5.59,\n -12.48,\n 0.0,\n 4.75,\n -10.02,\n 2.66,\n -8.71,\n 9.19,\n 0.65,\n 1.66,\n -2.59,\n 6.76,\n 4.94,\n -0.21,\n -2.42,\n -0.04,\n -2.95,\n -3.17,\n -0.05,\n -1.23,\n 0.65,\n 0.41,\n 5.61,\n -0.3,\n 3.38,\n 1.17,\n -0.29,\n 1.08,\n -3.53,\n -3.88,\n -2.22,\n 4.49,\n 3.47,\n 0.0,\n 4.74,\n -0.8,\n 6.58,\n 1.7,\n -3.87,\n 2.87,\n -1.2,\n -1.22,\n 0.85,\n -6.43,\n 1.96,\n 8.9,\n 2.06,\n 5.92,\n -1.98,\n -1.53,\n -0.07,\n 0.21,\n 4.83,\n 4.81,\n 1.31,\n -0.22,\n 2.41,\n 0.65,\n -0.15,\n 1.36,\n -1.58,\n 1.33,\n -1.1,\n -2.07,\n 0.6,\n -1.06,\n -2.91,\n -2.87,\n -6.37,\n 1.65,\n 6.42,\n -0.63,\n -0.23,\n -0.97,\n 1.62,\n -7.17,\n -0.61,\n -0.5,\n 3.4,\n -1.5,\n -0.85,\n -0.32,\n -0.29,\n 0.11,\n 0.47,\n -0.79,\n -5.2,\n 6.25,\n 0.57,\n 4.6,\n 1.12,\n -0.47,\n -0.41,\n -5.68,\n 0.68,\n -2.94,\n 1.4,\n 1.53,\n -4.62,\n 2.14,\n -2.06,\n -0.86,\n 4.28,\n 0.51,\n -0.83,\n -0.04,\n 0.66,\n -1.38,\n 3.42,\n 0.89,\n 0.25,\n -0.67,\n 0.64,\n 0.77,\n 3.24,\n -0.68,\n -2.45,\n -1.64,\n -2.09,\n 0.65,\n -2.41,\n -0.04,\n -0.18,\n 0.26,\n -0.81,\n -0.45,\n 1.6,\n 1.14,\n -0.91,\n -0.4,\n -1.1,\n 0.41,\n 0.11,\n 2.07,\n -0.69,\n 3.68,\n 2.11,\n -1.21,\n 3.91,\n 2.18,\n 2.99,\n 3.89,\n -0.55,\n -1.14,\n 2.9,\n 7.62,\n -1.52,\n -3.24,\n -0.27,\n -2.85,\n -18.36,\n 13.73,\n -4.47,\n -2.62,\n -2.26,\n 0.94,\n -0.72,\n -1.88,\n -1.43,\n 2.31,\n -0.55,\n -3.08,\n -3.9,\n 5.04,\n 12.04,\n 0.47,\n 0.2,\n 3.52,\n -1.22,\n -4.58,\n 0.65,\n 1.76,\n -2.76,\n 0.38,\n -1.02,\n 0.48,\n -1.17,\n 0.62,\n -2.07,\n 2.18,\n -1.52,\n 0.77,\n -1.32,\n -2.92,\n -1.41,\n -1.65,\n -3.32,\n -10.66,\n 4.71,\n 3.68,\n -4.22,\n 4.58,\n -2.07,\n -0.16,\n 0.16,\n -0.69,\n -0.53,\n 0.45,\n 0.98,\n -0.89,\n 0.74,\n -0.2,\n 0.2,\n -0.77,\n 0.33,\n 0.37,\n 5.2,\n -0.85,\n 1.25,\n 0.54,\n 5.2,\n -0.84,\n 1.65,\n 2.78,\n 1.02,\n 2.09,\n 3.88,\n -0.95,\n -1.06,\n 0.13,\n -4.24,\n 2.76,\n 3.56,\n -2.0,\n 1.34,\n 0.69,\n -1.57,\n 2.2,\n -0.72,\n 1.08,\n -0.62,\n 3.63,\n -3.15,\n 1.56,\n 1.6,\n 2.05,\n 2.69,\n -0.54,\n -0.79,\n -1.07,\n 2.68,\n -1.44,\n -6.7,\n -0.13,\n 1.5,\n 0.71,\n -5.85,\n 0.65,\n 7.16,\n -4.1,\n 2.83,\n 1.12,\n -1.58,\n 1.25,\n -1.24,\n 0.29,\n -1.31,\n -1.95,\n 0.03,\n 2.08,\n -1.33,\n -1.05,\n 0.43,\n -0.96,\n -3.14,\n -0.28,\n -0.31,\n -0.31,\n 0.52,\n -0.76,\n -3.48,\n 0.11,\n -0.5,\n 4.38,\n 6.87,\n 0.16,\n -0.68,\n 7.54,\n 2.88,\n -2.33,\n 1.72,\n -1.25,\n 0.57,\n -3.98,\n 2.58,\n -2.22,\n 0.09,\n 1.92,\n -5.48,\n 0.84,\n 0.16,\n 0.86,\n 0.16,\n -0.63,\n -0.38,\n -1.56,\n 0.65,\n 1.0,\n -0.51,\n -0.64,\n 0.06,\n 0.74,\n 1.82,\n 1.19,\n -0.74,\n 1.5,\n 1.29,\n 1.25,\n 4.41,\n -2.21,\n 0.91,\n -6.03,\n -1.33,\n 0.97,\n 3.42,\n -0.45,\n 0.15,\n 2.17,\n -2.3,\n 0.09,\n -2.06,\n -0.68,\n 4.85,\n -2.67,\n -2.13,\n 1.37,\n -0.64,\n 0.83,\n -1.41,\n -0.28,\n -2.24,\n -0.54,\n 0.7,\n -2.16,\n 0.33,\n 0.71,\n 0.45,\n 0.42,\n -0.64,\n 0.93,\n -1.59,\n -0.13,\n 0.55,\n -1.35,\n 0.85,\n 1.46,\n -2.39,\n -0.49,\n 0.76,\n 0.2,\n 2.18,\n -0.8,\n -0.03,\n -1.51,\n -0.62,\n 0.75,\n -0.2,\n -0.52,\n -9.21,\n 1.55,\n -7.79,\n 1.04,\n -0.57,\n -8.37,\n -1.38,\n -1.74,\n 5.58,\n -2.58,\n -0.63,\n 1.23,\n 2.17,\n -0.16,\n -0.41,\n 1.89,\n 0.44,\n -3.22,\n 1.45,\n -3.23,\n 1.02,\n -1.13,\n 0.59,\n -2.91,\n 1.08,\n 3.09,\n 3.16,\n -0.56,\n 0.0,\n -1.62,\n -1.48,\n -2.8,\n 1.46,\n 0.3,\n -0.93,\n 5.17,\n 0.97,\n -1.89,\n 5.0,\n -3.12,\n 1.21,\n -3.5,\n 0.74,\n -1.6,\n 0.25,\n 0.83,\n 0.37,\n -1.07,\n 0.58,\n -1.48,\n -0.5,\n 0.55,\n 0.67,\n 0.54,\n 0.21,\n 0.04,\n -0.62,\n 2.78,\n -2.83,\n 0.17,\n 0.25,\n 0.62,\n 0.0,\n -0.45,\n 1.28,\n -0.57,\n -0.94,\n -0.75,\n 0.25,\n -0.04,\n 0.08,\n -1.54,\n -1.99,\n -5.99,\n -0.92,\n 0.32,\n -0.14,\n -2.82,\n 0.24,\n 2.7,\n 1.11,\n -0.27,\n -0.87,\n 0.88,\n 0.18,\n 3.7,\n -1.37,\n -3.17,\n -1.38,\n 0.33,\n 0.0,\n 0.37,\n -0.28,\n 0.28,\n 0.88,\n -1.11,\n -0.28,\n -0.79,\n -2.97,\n 2.23,\n 0.85,\n -0.14,\n 0.9,\n 0.37,\n 0.74,\n -0.23,\n 0.56,\n -1.29,\n -1.68,\n 0.14,\n -0.28,\n -1.05,\n 0.77,\n 1.29,\n -0.28,\n 1.42,\n ...]"
     },
     "execution_count": 105,
     "metadata": {},
     "output_type": "execute_result"
    }
   ],
   "source": [
    "daily_percent_change_dict['BNB']"
   ],
   "metadata": {
    "collapsed": false
   }
  },
  {
   "cell_type": "code",
   "execution_count": 104,
   "outputs": [
    {
     "name": "stdout",
     "output_type": "stream",
     "text": [
      "Cluster 1: ['Hedera']\n",
      "Cluster 2: ['Chiliz', 'Axie Infinity', 'The Sandbox', 'Decentraland', 'Enjin Coin']\n",
      "Cluster 3: ['Kava', 'Curve DAO', 'Ankr Network']\n",
      "Cluster 4: ['Dogecoin', 'Bitcoin Cash', 'Ethereum Classic', 'Stellar', 'Stacks', 'VeChain', 'NEO', 'IOTA', 'IoTeX', 'Zilliqa']\n",
      "Cluster 5: ['Bitcoin', 'Ethereum', 'BNB', 'Solana', 'XRP', 'Cardano', 'Avalanche', 'Chainlink', 'TRON', 'Polkadot', 'Uniswap', 'NEAR Protocol', 'Polygon', 'Litecoin', 'Fetch.ai', 'Cosmos Hub', 'Filecoin', 'The Graph', 'Maker', 'Injective', 'Theta Network', 'Fantom', 'THORChain', 'Algorand', 'Aave', 'MultiversX', 'Tezos', 'EOS', 'Synthetix Network', 'Oasis Network', 'Theta Fuel', 'Ocean Protocol', '1inch', '0x Protocol', 'Holo', 'PAX Gold', 'SKALE', 'Compound']\n"
     ]
    }
   ],
   "source": [
    "from sklearn.cluster import KMeans\n",
    "import numpy as np\n",
    "\n",
    "# Assuming daily_change_dict is your dictionary with coin names as keys and daily changes list as values\n",
    "\n",
    "# Determine the maximum length of daily change lists\n",
    "max_length = max(len(changes) for changes in daily_percent_change_dict.values())\n",
    "\n",
    "# Pad or truncate daily change lists to the maximum length\n",
    "padded_daily_changes = []\n",
    "for changes in daily_percent_change_dict.values():\n",
    "    padded_changes = changes + [0] * (max_length - len(changes))  # Pad with zeros\n",
    "    # Alternatively, you can truncate longer lists by uncommenting the line below\n",
    "    # padded_changes = changes[:max_length]\n",
    "    padded_daily_changes.append(padded_changes)\n",
    "\n",
    "# Prepare data\n",
    "coins = list(daily_percent_change_dict.keys())\n",
    "X = np.array(padded_daily_changes)  # Convert values to numpy array\n",
    "\n",
    "# Choose the number of clusters (k)\n",
    "k = 5  # You can adjust this number based on your data and requirements\n",
    "\n",
    "# Initialize and fit KMeans model\n",
    "kmeans = KMeans(n_clusters=k)\n",
    "kmeans.fit(X)\n",
    "\n",
    "# Get cluster labels\n",
    "cluster_labels = kmeans.labels_\n",
    "\n",
    "# Print clustering results\n",
    "for i in range(k):\n",
    "    cluster_coins = [coins[j] for j in range(len(coins)) if cluster_labels[j] == i]\n",
    "    print(f'Cluster {i+1}: {cluster_coins}')\n"
   ],
   "metadata": {
    "collapsed": false
   }
  },
  {
   "cell_type": "code",
   "execution_count": null,
   "outputs": [],
   "source": [],
   "metadata": {
    "collapsed": false
   }
  }
 ],
 "metadata": {
  "kernelspec": {
   "display_name": "Python 3",
   "language": "python",
   "name": "python3"
  },
  "language_info": {
   "codemirror_mode": {
    "name": "ipython",
    "version": 2
   },
   "file_extension": ".py",
   "mimetype": "text/x-python",
   "name": "python",
   "nbconvert_exporter": "python",
   "pygments_lexer": "ipython2",
   "version": "2.7.6"
  }
 },
 "nbformat": 4,
 "nbformat_minor": 0
}
